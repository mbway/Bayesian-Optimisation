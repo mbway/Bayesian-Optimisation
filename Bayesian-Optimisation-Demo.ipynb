{
 "cells": [
  {
   "cell_type": "markdown",
   "metadata": {},
   "source": [
    "# A Demonstration of Exploitation/Exploration Trade-off\n",
    "## Inspired by the following notebook:\n",
    "[this notebook](https://github.com/fmfn/BayesianOptimization/blob/master/examples/exploitation%20vs%20exploration.ipynb)"
   ]
  },
  {
   "cell_type": "code",
   "execution_count": null,
   "metadata": {},
   "outputs": [],
   "source": [
    "%load_ext autoreload\n",
    "%autoreload 2\n",
    "%matplotlib inline"
   ]
  },
  {
   "cell_type": "code",
   "execution_count": null,
   "metadata": {},
   "outputs": [],
   "source": [
    "import numpy as np\n",
    "import sklearn.gaussian_process as gp\n",
    "import matplotlib.pyplot as plt\n",
    "import seaborn as sns # prettify matplotlib\n",
    "\n",
    "import optimisation as op\n",
    "import optimisation_gui as op_gui"
   ]
  },
  {
   "cell_type": "code",
   "execution_count": null,
   "metadata": {},
   "outputs": [],
   "source": [
    "# Make deterministic\n",
    "np.random.seed(42)"
   ]
  },
  {
   "cell_type": "markdown",
   "metadata": {},
   "source": [
    "# Target Function"
   ]
  },
  {
   "cell_type": "code",
   "execution_count": null,
   "metadata": {},
   "outputs": [],
   "source": [
    "f = lambda x: np.exp(-(x - 2)**2) + np.exp(-(x - 6)**2/10) + 1/ (x**2 + 1)\n",
    "xs = np.linspace(-2, 10, 10000)\n",
    "ys = f(xs)\n",
    "best_y = 1.4\n",
    "\n",
    "class TestEvaluator(op.Evaluator):\n",
    "    def test_config(self, config):\n",
    "        return f(config.x)\n",
    "evaluator = TestEvaluator()\n",
    "\n",
    "plt.plot(xs, ys)\n",
    "plt.show()"
   ]
  },
  {
   "cell_type": "markdown",
   "metadata": {},
   "source": [
    "# Helper Functions\n",
    "These functions set up the optimiser to act like [this library](https://github.com/fmfn/BayesianOptimization/blob/master/examples/exploitation%20vs%20exploration.ipynb)"
   ]
  },
  {
   "cell_type": "code",
   "execution_count": null,
   "metadata": {},
   "outputs": [],
   "source": [
    "def create_optimiser(ac_func, ac_args):\n",
    "    '''\n",
    "    create an optimiser which is configured to be as close those used by the\n",
    "    Bayesian optimisation library this notebook is copying, with the acquisition\n",
    "    function and arguments for it passed as parameters\n",
    "    '''\n",
    "    #ranges = {'x' : xs, 'y' : [1,2,3]}\n",
    "    ranges = {'x' : xs}\n",
    "    gp_params = {'alpha': 1e-5, 'kernel':1.0*gp.kernels.Matern(nu=2.5), 'n_restarts_optimizer':2}\n",
    "    # these settings are very over-kill, the other library uses 250 restarts which is far too many\n",
    "    ac_max_params = {'num_random' : 1e5, 'num_restarts' : 10}\n",
    "    \n",
    "    return op.BayesianOptimisationOptimiser(\n",
    "        ranges, maximise_cost=True,\n",
    "        acquisition_function=ac_func, acquisition_function_params=ac_args,\n",
    "        gp_params=gp_params, pre_samples=2, ac_max_params=ac_max_params, close_tolerance=1e-15)\n",
    "\n",
    "def run_optimiser(ac_func, ac_args):\n",
    "    ''' create an optimiser, run it and display the results '''\n",
    "    bo = create_optimiser(ac_func, ac_args)\n",
    "    bo.run_sequential(evaluator, max_jobs=25)\n",
    "\n",
    "    def plot(n, step):\n",
    "        bo.plot_step_slice('x', n, true_cost=f);\n",
    "    op_gui.step_log_slider(bo, plot, pre_compute=False)\n",
    "    return bo"
   ]
  },
  {
   "cell_type": "markdown",
   "metadata": {},
   "source": [
    "# Upper Confidence Bound: Prefer Exploitation\n",
    "$\\kappa=1.0$"
   ]
  },
  {
   "cell_type": "code",
   "execution_count": null,
   "metadata": {},
   "outputs": [],
   "source": [
    "bo = run_optimiser('UCB', {'kappa' : 1})"
   ]
  },
  {
   "cell_type": "code",
   "execution_count": null,
   "metadata": {},
   "outputs": [],
   "source": [
    "bo.plot_cost_over_time(true_best=best_y);"
   ]
  },
  {
   "cell_type": "markdown",
   "metadata": {},
   "source": [
    "# Upper Confidence Bound: Prefer Exploration\n",
    "$\\kappa=10.0$"
   ]
  },
  {
   "cell_type": "code",
   "execution_count": null,
   "metadata": {},
   "outputs": [],
   "source": [
    "bo = run_optimiser('UCB', {'kappa' : 10})"
   ]
  },
  {
   "cell_type": "code",
   "execution_count": null,
   "metadata": {},
   "outputs": [],
   "source": [
    "bo.plot_cost_over_time(true_best=best_y);"
   ]
  },
  {
   "cell_type": "markdown",
   "metadata": {},
   "source": [
    "# Expected Improvement: Prefer Exploitation\n",
    "\n",
    "The problem with my implementation is that it does not spend as much resources as the other library does in finding the best local optimum of the acquisition function, and so towards the end the peak is too thin to land on through gradient-based optimisation. That is why this method still appears to be favouring exploration.\n",
    "\n",
    "$\\xi=0.0001$"
   ]
  },
  {
   "cell_type": "code",
   "execution_count": null,
   "metadata": {},
   "outputs": [],
   "source": [
    "bo = run_optimiser('EI', {'xi' : 1e-4})"
   ]
  },
  {
   "cell_type": "code",
   "execution_count": null,
   "metadata": {},
   "outputs": [],
   "source": [
    "bo.plot_cost_over_time(true_best=best_y);"
   ]
  },
  {
   "cell_type": "markdown",
   "metadata": {},
   "source": [
    "# Expected Improvement: Prefer Exploration\n",
    "$\\xi=0.1$"
   ]
  },
  {
   "cell_type": "code",
   "execution_count": null,
   "metadata": {},
   "outputs": [],
   "source": [
    "bo = run_optimiser('EI', {'xi' : 0.1})"
   ]
  },
  {
   "cell_type": "code",
   "execution_count": null,
   "metadata": {},
   "outputs": [],
   "source": [
    "bo.plot_cost_over_time(true_best=best_y);"
   ]
  },
  {
   "cell_type": "markdown",
   "metadata": {},
   "source": [
    "# Probability of Improvement: Prefer Exploitation\n",
    "$\\xi=0.0001$"
   ]
  },
  {
   "cell_type": "code",
   "execution_count": null,
   "metadata": {},
   "outputs": [],
   "source": [
    "bo = run_optimiser('PI', {'xi' : 1e-4})"
   ]
  },
  {
   "cell_type": "code",
   "execution_count": null,
   "metadata": {},
   "outputs": [],
   "source": [
    "bo.plot_cost_over_time(true_best=best_y);"
   ]
  },
  {
   "cell_type": "markdown",
   "metadata": {},
   "source": [
    "# Probability of Improvement: Prefer Exploration\n",
    "$\\xi=0.1$"
   ]
  },
  {
   "cell_type": "code",
   "execution_count": null,
   "metadata": {},
   "outputs": [],
   "source": [
    "bo = run_optimiser('PI', {'xi' : 0.1})"
   ]
  },
  {
   "cell_type": "code",
   "execution_count": null,
   "metadata": {},
   "outputs": [],
   "source": [
    "bo.plot_cost_over_time(true_best=best_y);"
   ]
  }
 ],
 "metadata": {
  "kernelspec": {
   "display_name": "Python 3",
   "language": "python",
   "name": "python3"
  },
  "language_info": {
   "codemirror_mode": {
    "name": "ipython",
    "version": 3
   },
   "file_extension": ".py",
   "mimetype": "text/x-python",
   "name": "python",
   "nbconvert_exporter": "python",
   "pygments_lexer": "ipython3",
   "version": "3.5.2"
  },
  "varInspector": {
   "cols": {
    "lenName": 16,
    "lenType": 16,
    "lenVar": 40
   },
   "kernels_config": {
    "python": {
     "delete_cmd_postfix": "",
     "delete_cmd_prefix": "del ",
     "library": "var_list.py",
     "varRefreshCmd": "print(var_dic_list())"
    },
    "r": {
     "delete_cmd_postfix": ") ",
     "delete_cmd_prefix": "rm(",
     "library": "var_list.r",
     "varRefreshCmd": "cat(var_dic_list()) "
    }
   },
   "types_to_exclude": [
    "module",
    "function",
    "builtin_function_or_method",
    "instance",
    "_Feature"
   ],
   "window_display": false
  }
 },
 "nbformat": 4,
 "nbformat_minor": 2
}
