{
 "cells": [
  {
   "cell_type": "markdown",
   "metadata": {},
   "source": [
    "# Warping Demonstration\n",
    "This notebook explains how to obtain points which are evenly spaced in the latent space. I think that the warping function must be monotonic (and so, order-preserving) and continuous in order for this to work."
   ]
  },
  {
   "cell_type": "code",
   "execution_count": null,
   "metadata": {},
   "outputs": [],
   "source": [
    "import numpy as np\n",
    "%matplotlib inline\n",
    "import matplotlib.pyplot as plt"
   ]
  },
  {
   "cell_type": "code",
   "execution_count": null,
   "metadata": {},
   "outputs": [],
   "source": [
    "n = 10\n",
    "a, b = 1, 10\n",
    "warp = np.log\n",
    "unwarp = np.exp\n",
    "linlin = np.linspace(a, b, num=n)"
   ]
  },
  {
   "cell_type": "markdown",
   "metadata": {},
   "source": [
    "Linearly spaced points in linear space"
   ]
  },
  {
   "cell_type": "code",
   "execution_count": null,
   "metadata": {},
   "outputs": [],
   "source": [
    "plt.figure(figsize=(6, 1.5))\n",
    "plt.plot(linlin, [0]*n, 'o')\n",
    "plt.margins(0.2)"
   ]
  },
  {
   "cell_type": "markdown",
   "metadata": {},
   "source": [
    "Warping the linearly spaced points"
   ]
  },
  {
   "cell_type": "code",
   "execution_count": null,
   "metadata": {},
   "outputs": [],
   "source": [
    "xs = np.linspace(a, b, num=100)\n",
    "plt.plot(xs, warp(xs))\n",
    "for x in linlin:\n",
    "    l = plt.plot([x, x, 0], [0, warp(x), warp(x)], '--', linewidth=0.5)\n",
    "    plt.plot([0, x], [warp(x), 0], 'o', color=l[0].get_color())\n",
    "plt.xlabel('linear space')\n",
    "plt.ylabel('warped space')\n",
    "#plt.xscale('log')\n",
    "plt.margins(0.1)"
   ]
  },
  {
   "cell_type": "markdown",
   "metadata": {},
   "source": [
    "Unwarping the warped points"
   ]
  },
  {
   "cell_type": "code",
   "execution_count": null,
   "metadata": {},
   "outputs": [],
   "source": [
    "wa, wb = warp(a), warp(b)\n",
    "xs = np.linspace(wa, wb, num=100)\n",
    "plt.plot(xs, unwarp(xs))\n",
    "for x in warp(linlin):\n",
    "    l = plt.plot([x, x, 0], [0, unwarp(x), unwarp(x)], '--', linewidth=0.5)\n",
    "    plt.plot([0, x], [unwarp(x), 0], 'o', color=l[0].get_color())\n",
    "plt.xlabel('warped space')\n",
    "plt.ylabel('linear space')\n",
    "plt.margins(0.1)"
   ]
  },
  {
   "cell_type": "markdown",
   "metadata": {},
   "source": [
    "To obtain points in the linear space which are distributed evenly in the warped space:\n",
    "\n",
    "space points evenly between the warped endpoints, then unwarp."
   ]
  },
  {
   "cell_type": "code",
   "execution_count": null,
   "metadata": {},
   "outputs": [],
   "source": [
    "wa, wb = warp(a), warp(b)\n",
    "linwarp = np.linspace(wa, wb, num=n)\n",
    "\n",
    "xs = np.linspace(wa, wb, num=100)\n",
    "plt.plot(xs, unwarp(xs))\n",
    "for x in linwarp:\n",
    "    l = plt.plot([x, x, 0], [0, unwarp(x), unwarp(x)], '--', linewidth=0.5)\n",
    "    plt.plot([0, x], [unwarp(x), 0], 'o', color=l[0].get_color())\n",
    "plt.xlabel('warped space')\n",
    "plt.ylabel('linear space')\n",
    "plt.margins(0.1)"
   ]
  },
  {
   "cell_type": "code",
   "execution_count": null,
   "metadata": {},
   "outputs": [],
   "source": [
    "plt.figure(figsize=(6, 1.5))\n",
    "plt.plot(unwarp(linwarp), [0]*n, 'o')\n",
    "plt.margins(0.1)"
   ]
  },
  {
   "cell_type": "markdown",
   "metadata": {},
   "source": [
    "When the warping function is the natural logarithm, the evenly spaced points can be generated using the `np.logspace()` function:"
   ]
  },
  {
   "cell_type": "code",
   "execution_count": null,
   "metadata": {},
   "outputs": [],
   "source": [
    "xs = np.logspace(np.log(a), np.log(b), num=n, base=np.e)\n",
    "print(np.allclose(xs, unwarp(linwarp)))"
   ]
  }
 ],
 "metadata": {
  "kernelspec": {
   "display_name": "Python 3",
   "language": "python",
   "name": "python3"
  },
  "language_info": {
   "codemirror_mode": {
    "name": "ipython",
    "version": 3
   },
   "file_extension": ".py",
   "mimetype": "text/x-python",
   "name": "python",
   "nbconvert_exporter": "python",
   "pygments_lexer": "ipython3",
   "version": "3.5.2"
  },
  "varInspector": {
   "cols": {
    "lenName": 16,
    "lenType": 16,
    "lenVar": 40
   },
   "kernels_config": {
    "python": {
     "delete_cmd_postfix": "",
     "delete_cmd_prefix": "del ",
     "library": "var_list.py",
     "varRefreshCmd": "print(var_dic_list())"
    },
    "r": {
     "delete_cmd_postfix": ") ",
     "delete_cmd_prefix": "rm(",
     "library": "var_list.r",
     "varRefreshCmd": "cat(var_dic_list()) "
    }
   },
   "types_to_exclude": [
    "module",
    "function",
    "builtin_function_or_method",
    "instance",
    "_Feature"
   ],
   "window_display": false
  }
 },
 "nbformat": 4,
 "nbformat_minor": 2
}
