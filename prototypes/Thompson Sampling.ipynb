{
 "cells": [
  {
   "cell_type": "code",
   "execution_count": null,
   "metadata": {},
   "outputs": [],
   "source": [
    "import numpy as np\n",
    "import sklearn.gaussian_process as gp\n",
    "import matplotlib.pyplot as plt"
   ]
  },
  {
   "cell_type": "code",
   "execution_count": null,
   "metadata": {},
   "outputs": [],
   "source": [
    "np.random.seed(100)"
   ]
  },
  {
   "cell_type": "code",
   "execution_count": null,
   "metadata": {},
   "outputs": [],
   "source": [
    "f = lambda x: np.exp(-(x - 2)**2) + np.exp(-(x - 6)**2/10) + 1/ (x**2 + 1)\n",
    "x_min = -2\n",
    "x_max = 10\n",
    "\n",
    "xs = np.linspace(x_min, x_max, 100)\n",
    "ys = f(xs)\n",
    "\n",
    "rxs = np.random.uniform(x_min, x_max, size=(6,1))\n",
    "rys = f(rxs)"
   ]
  },
  {
   "cell_type": "code",
   "execution_count": null,
   "metadata": {},
   "outputs": [],
   "source": [
    "plt.figure(figsize=(16,6))\n",
    "plt.plot(xs, ys, 'g-')\n",
    "plt.plot(rxs, rys, 'bo')\n",
    "plt.show()"
   ]
  },
  {
   "cell_type": "code",
   "execution_count": null,
   "metadata": {},
   "outputs": [],
   "source": [
    "gp_params = dict(\n",
    "    alpha = 1e-10, # larger => more noise. Default = 1e-10\n",
    "    # nu=1.5 assumes the target function is once-differentiable\n",
    "    kernel = 1.0 * gp.kernels.Matern(nu=1.5),# + gp.kernels.WhiteKernel(),\n",
    "    #kernel = 1.0 * gp.kernels.RBF(),\n",
    "    n_restarts_optimizer = 10,\n",
    "    # make the mean 0 (theoretically a bad thing, see docs, but can help)\n",
    "    # with the constant offset in the kernel this shouldn't be required\n",
    "    #normalize_y = True,\n",
    "    copy_X_train = True # whether to make a copy of the training data (in-case it is modified)\n",
    ")\n",
    "\n",
    "gp_model = gp.GaussianProcessRegressor(**gp_params)\n",
    "gp_model"
   ]
  },
  {
   "cell_type": "code",
   "execution_count": null,
   "metadata": {},
   "outputs": [],
   "source": [
    "gp_model.fit(rxs, rys)"
   ]
  },
  {
   "cell_type": "code",
   "execution_count": null,
   "metadata": {},
   "outputs": [],
   "source": [
    "gp_mu, gp_sigma = gp_model.predict(xs.reshape(-1,1), return_std=True)\n",
    "gp_sigma = gp_sigma.reshape(-1,1)"
   ]
  },
  {
   "cell_type": "code",
   "execution_count": null,
   "metadata": {},
   "outputs": [],
   "source": [
    "plt.figure(figsize=(16,6))\n",
    "plt.plot(xs, ys, 'g-')\n",
    "plt.plot(rxs, rys, 'bo')\n",
    "plt.plot(xs, gp_mu, 'r-')\n",
    "plt.fill_between(xs, gp_mu.flatten()-2*gp_sigma.flatten(), gp_mu.flatten()+2*gp_sigma.flatten(), alpha=0.3)\n",
    "#plt.plot(xs, sample.flatten(), 'bo', color='black')\n",
    "#plt.plot(xs2, sample2.flatten(), '-', color='black')\n",
    "plt.show()"
   ]
  },
  {
   "cell_type": "code",
   "execution_count": null,
   "metadata": {},
   "outputs": [],
   "source": [
    "rxs2 = np.vstack([rxs, np.random.uniform(x_min, x_max, size=(6,1))])\n",
    "rys2 = f(rxs2)"
   ]
  },
  {
   "cell_type": "code",
   "execution_count": null,
   "metadata": {},
   "outputs": [],
   "source": [
    "gp_model.set_params(optimizer=None, kernel=gp_model.kernel_)"
   ]
  },
  {
   "cell_type": "code",
   "execution_count": null,
   "metadata": {},
   "outputs": [],
   "source": [
    "gp_model.kernel_"
   ]
  },
  {
   "cell_type": "code",
   "execution_count": null,
   "metadata": {},
   "outputs": [],
   "source": [
    "gp_model.fit(rxs2, rys2)"
   ]
  },
  {
   "cell_type": "code",
   "execution_count": null,
   "metadata": {},
   "outputs": [],
   "source": [
    "gp_model.kernel_"
   ]
  },
  {
   "cell_type": "code",
   "execution_count": null,
   "metadata": {},
   "outputs": [],
   "source": [
    "gp_mu, gp_sigma = gp_model.predict(xs.reshape(-1,1), return_std=True)\n",
    "gp_sigma = gp_sigma.reshape(-1,1)"
   ]
  },
  {
   "cell_type": "code",
   "execution_count": null,
   "metadata": {},
   "outputs": [],
   "source": [
    "plt.figure(figsize=(16,6))\n",
    "plt.plot(xs, ys, 'g-')\n",
    "plt.plot(rxs2, rys2, 'bo')\n",
    "plt.plot(xs, gp_mu, 'r-')\n",
    "plt.fill_between(xs, gp_mu.flatten()-2*gp_sigma.flatten(), gp_mu.flatten()+2*gp_sigma.flatten(), alpha=0.3)\n",
    "#plt.plot(xs, sample.flatten(), 'bo', color='black')\n",
    "#plt.plot(xs2, sample2.flatten(), '-', color='black')\n",
    "plt.show()"
   ]
  },
  {
   "cell_type": "code",
   "execution_count": null,
   "metadata": {},
   "outputs": [],
   "source": [
    "sample = gp_model.sample_y(xs.reshape(-1,1), n_samples=1, random_state=0)"
   ]
  },
  {
   "cell_type": "code",
   "execution_count": null,
   "metadata": {},
   "outputs": [],
   "source": [
    "%time xs = np.linspace(0, 5000, num=10000)\n",
    "xs.shape"
   ]
  },
  {
   "cell_type": "code",
   "execution_count": null,
   "metadata": {},
   "outputs": [],
   "source": [
    "import pdb\n",
    "def f():\n",
    "    pdb.set_trace()\n",
    "    sample2 = gp_model.sample_y(xs.reshape(-1, 1), n_samples=1, random_state=0)\n",
    "f()"
   ]
  },
  {
   "cell_type": "code",
   "execution_count": null,
   "metadata": {},
   "outputs": [],
   "source": [
    "xs2 = np.linspace(x_min, x_max, 10).reshape(-1,1)\n",
    "sample2 = gp_model.sample_y(xs2, n_samples=1, random_state=0)"
   ]
  },
  {
   "cell_type": "code",
   "execution_count": null,
   "metadata": {},
   "outputs": [],
   "source": [
    "plt.figure(figsize=(16,6))\n",
    "#plt.plot(xs, ys, 'g-')\n",
    "plt.plot(rxs, rys, 'bo')\n",
    "plt.plot(xs, gp_mu, 'r-')\n",
    "#plt.fill_between(xs, gp_mu.flatten()-2*gp_sigma.flatten(), gp_mu.flatten()+2*gp_sigma.flatten(), alpha=0.3)\n",
    "#plt.plot(xs, sample.flatten(), 'bo', color='black')\n",
    "plt.plot(xs2.flatten(), sample2.flatten(), 'r-', color='black')\n",
    "plt.show()"
   ]
  },
  {
   "cell_type": "code",
   "execution_count": null,
   "metadata": {},
   "outputs": [],
   "source": []
  }
 ],
 "metadata": {
  "kernelspec": {
   "display_name": "Python 3",
   "language": "python",
   "name": "python3"
  },
  "language_info": {
   "codemirror_mode": {
    "name": "ipython",
    "version": 3
   },
   "file_extension": ".py",
   "mimetype": "text/x-python",
   "name": "python",
   "nbconvert_exporter": "python",
   "pygments_lexer": "ipython3",
   "version": "3.5.2"
  },
  "varInspector": {
   "cols": {
    "lenName": 16,
    "lenType": 16,
    "lenVar": 40
   },
   "kernels_config": {
    "python": {
     "delete_cmd_postfix": "",
     "delete_cmd_prefix": "del ",
     "library": "var_list.py",
     "varRefreshCmd": "print(var_dic_list())"
    },
    "r": {
     "delete_cmd_postfix": ") ",
     "delete_cmd_prefix": "rm(",
     "library": "var_list.r",
     "varRefreshCmd": "cat(var_dic_list()) "
    }
   },
   "types_to_exclude": [
    "module",
    "function",
    "builtin_function_or_method",
    "instance",
    "_Feature"
   ],
   "window_display": false
  }
 },
 "nbformat": 4,
 "nbformat_minor": 2
}
