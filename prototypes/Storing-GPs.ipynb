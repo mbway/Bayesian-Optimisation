{
 "cells": [
  {
   "cell_type": "code",
   "execution_count": null,
   "metadata": {},
   "outputs": [],
   "source": [
    "import copy\n",
    "import pickle\n",
    "import numpy as np\n",
    "import sklearn.gaussian_process as gp\n",
    "import matplotlib.pyplot as plt"
   ]
  },
  {
   "cell_type": "code",
   "execution_count": null,
   "metadata": {},
   "outputs": [],
   "source": [
    "import sys\n",
    "sys.path.append('..')\n",
    "from optimisation.bayesian_utils import store_GP, restore_GP"
   ]
  },
  {
   "cell_type": "code",
   "execution_count": null,
   "metadata": {},
   "outputs": [],
   "source": [
    "np.random.seed(100)"
   ]
  },
  {
   "cell_type": "code",
   "execution_count": null,
   "metadata": {},
   "outputs": [],
   "source": [
    "f = lambda x: np.exp(-(x - 2)**2) + np.exp(-(x - 6)**2/10) + 1/ (x**2 + 1)\n",
    "x_min = -2\n",
    "x_max = 10\n",
    "\n",
    "xs = np.linspace(x_min, x_max, 100)\n",
    "ys = f(xs)\n",
    "\n",
    "rxs = np.random.uniform(x_min, x_max, size=(6,1))\n",
    "rys = f(rxs)"
   ]
  },
  {
   "cell_type": "code",
   "execution_count": null,
   "metadata": {},
   "outputs": [],
   "source": [
    "plt.figure(figsize=(16,6))\n",
    "plt.plot(xs, ys, 'g-')\n",
    "plt.plot(rxs, rys, 'bo')\n",
    "plt.show()"
   ]
  },
  {
   "cell_type": "code",
   "execution_count": null,
   "metadata": {},
   "outputs": [],
   "source": [
    "gp_params = dict(\n",
    "    alpha = 1e-10, # larger => more noise. Default = 1e-10\n",
    "    # nu=1.5 assumes the target function is once-differentiable\n",
    "    kernel = 1.0 * gp.kernels.Matern(nu=1.5),# + gp.kernels.WhiteKernel(),\n",
    "    #kernel = 1.0 * gp.kernels.RBF(),\n",
    "    n_restarts_optimizer = 10,\n",
    "    # make the mean 0 (theoretically a bad thing, see docs, but can help)\n",
    "    # with the constant offset in the kernel this shouldn't be required\n",
    "    #normalize_y = True,\n",
    "    copy_X_train = True # whether to make a copy of the training data (in-case it is modified)\n",
    ")\n",
    "\n",
    "gp_model = gp.GaussianProcessRegressor(**gp_params)"
   ]
  },
  {
   "cell_type": "code",
   "execution_count": null,
   "metadata": {},
   "outputs": [],
   "source": [
    "gp_model.fit(rxs, rys)"
   ]
  },
  {
   "cell_type": "code",
   "execution_count": null,
   "metadata": {},
   "outputs": [],
   "source": [
    "gp_mu, gp_sigma = gp_model.predict(xs.reshape(-1,1), return_std=True)\n",
    "gp_sigma = gp_sigma.reshape(-1,1)"
   ]
  },
  {
   "cell_type": "code",
   "execution_count": null,
   "metadata": {},
   "outputs": [],
   "source": [
    "plt.figure(figsize=(16,6))\n",
    "plt.plot(xs, ys, 'g-')\n",
    "plt.plot(rxs, rys, 'bo')\n",
    "plt.plot(xs, gp_mu, 'r-')\n",
    "plt.fill_between(xs, gp_mu.flatten()-2*gp_sigma.flatten(), gp_mu.flatten()+2*gp_sigma.flatten(), alpha=0.3)\n",
    "#plt.plot(xs, sample.flatten(), 'bo', color='black')\n",
    "#plt.plot(xs2, sample2.flatten(), '-', color='black')\n",
    "plt.show()"
   ]
  },
  {
   "cell_type": "code",
   "execution_count": null,
   "metadata": {},
   "outputs": [],
   "source": [
    "def GPs_equal(a, b):\n",
    "    ad, bd = a.__dict__, b.__dict__\n",
    "    if ad.keys() != bd.keys():\n",
    "        print('dicts different')\n",
    "        return False\n",
    "    for k in ad.keys():\n",
    "        if k in {'rng'}: # exclude these items\n",
    "            continue\n",
    "        x, y = ad[k], bd[k]\n",
    "        if isinstance(x, np.ndarray):\n",
    "            if not np.all(x == y):\n",
    "                print('element {} is different:\\n{}\\n{}'.format(k, x, y))\n",
    "                return False\n",
    "        else:\n",
    "            if x != y:\n",
    "                print('element {} is different:\\n{}\\n{}'.format(k, x, y))\n",
    "                return False\n",
    "    return True"
   ]
  },
  {
   "cell_type": "code",
   "execution_count": null,
   "metadata": {},
   "outputs": [],
   "source": [
    "gp_before = copy.deepcopy(gp_model)\n",
    "gp_pickled = pickle.loads(pickle.dumps(gp_model))"
   ]
  },
  {
   "cell_type": "code",
   "execution_count": null,
   "metadata": {},
   "outputs": [],
   "source": [
    "gp_stored = store_GP(gp_model)\n",
    "gp_stored"
   ]
  },
  {
   "cell_type": "code",
   "execution_count": null,
   "metadata": {},
   "outputs": [],
   "source": [
    "restored = restore_GP(gp_stored, gp_params, rxs, rys)"
   ]
  },
  {
   "cell_type": "code",
   "execution_count": null,
   "metadata": {},
   "outputs": [],
   "source": [
    "if GPs_equal(gp_pickled, gp_model):\n",
    "    print('GP pickled == GP after')\n",
    "else:\n",
    "    print('NOT EQUAL')\n",
    "    \n",
    "if GPs_equal(gp_before, gp_model):\n",
    "    print('GP before == GP after')\n",
    "else:\n",
    "    print('NOT EQUAL')\n",
    "    \n",
    "if GPs_equal(gp_model, restored):\n",
    "    print('original GP == restored GP')\n",
    "else:\n",
    "    print('NOT EQUAL')"
   ]
  },
  {
   "cell_type": "code",
   "execution_count": null,
   "metadata": {},
   "outputs": [],
   "source": [
    "gp2_mu, gp2_sigma = restored.predict(xs.reshape(-1,1), return_std=True)\n",
    "gp2_sigma = gp2_sigma.reshape(-1,1)"
   ]
  },
  {
   "cell_type": "code",
   "execution_count": null,
   "metadata": {},
   "outputs": [],
   "source": [
    "np.all(gp2_mu == gp_mu)"
   ]
  },
  {
   "cell_type": "code",
   "execution_count": null,
   "metadata": {},
   "outputs": [],
   "source": [
    "np.all(gp2_sigma == gp_sigma)"
   ]
  },
  {
   "cell_type": "code",
   "execution_count": null,
   "metadata": {},
   "outputs": [],
   "source": [
    "plt.figure(figsize=(16,6))\n",
    "plt.plot(xs, ys, 'g-')\n",
    "plt.plot(rxs, rys, 'bo')\n",
    "plt.plot(xs, gp_mu, 'r-')\n",
    "plt.fill_between(xs, gp_mu.flatten()-2*gp_sigma.flatten(), gp_mu.flatten()+2*gp_sigma.flatten(), hatch='/', alpha=0.1)\n",
    "plt.fill_between(xs, gp2_mu.flatten()-2*gp2_sigma.flatten(), gp2_mu.flatten()+2*gp2_sigma.flatten(), hatch='\\\\', alpha=0.2)\n",
    "#plt.plot(xs, sample.flatten(), 'bo', color='black')\n",
    "#plt.plot(xs2, sample2.flatten(), '-', color='black')\n",
    "plt.show()"
   ]
  },
  {
   "cell_type": "code",
   "execution_count": null,
   "metadata": {},
   "outputs": [],
   "source": []
  }
 ],
 "metadata": {
  "kernelspec": {
   "display_name": "Python 3",
   "language": "python",
   "name": "python3"
  },
  "language_info": {
   "codemirror_mode": {
    "name": "ipython",
    "version": 3
   },
   "file_extension": ".py",
   "mimetype": "text/x-python",
   "name": "python",
   "nbconvert_exporter": "python",
   "pygments_lexer": "ipython3",
   "version": "3.5.2"
  },
  "varInspector": {
   "cols": {
    "lenName": 16,
    "lenType": 16,
    "lenVar": 40
   },
   "kernels_config": {
    "python": {
     "delete_cmd_postfix": "",
     "delete_cmd_prefix": "del ",
     "library": "var_list.py",
     "varRefreshCmd": "print(var_dic_list())"
    },
    "r": {
     "delete_cmd_postfix": ") ",
     "delete_cmd_prefix": "rm(",
     "library": "var_list.r",
     "varRefreshCmd": "cat(var_dic_list()) "
    }
   },
   "types_to_exclude": [
    "module",
    "function",
    "builtin_function_or_method",
    "instance",
    "_Feature"
   ],
   "window_display": false
  }
 },
 "nbformat": 4,
 "nbformat_minor": 2
}
