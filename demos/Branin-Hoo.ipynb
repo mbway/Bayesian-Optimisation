{
 "cells": [
  {
   "cell_type": "markdown",
   "metadata": {},
   "source": [
    "# An Example 2D optimisation\n",
    "## Inspired by the following notebook:\n",
    "[scikit-optimize benchmarks](https://github.com/scikit-optimize/scikit-optimize.github.io/blob/master/notebooks/strategy-comparison.md)\n",
    "\n",
    "The [Branin-Hoo function](https://www.sfu.ca/~ssurjano/branin.html) is a commonly used function for benchmarking black-box global optimisation algorithms"
   ]
  },
  {
   "cell_type": "code",
   "execution_count": null,
   "metadata": {},
   "outputs": [],
   "source": [
    "%load_ext autoreload\n",
    "%autoreload 2\n",
    "%matplotlib inline"
   ]
  },
  {
   "cell_type": "code",
   "execution_count": null,
   "metadata": {},
   "outputs": [],
   "source": [
    "import numpy as np\n",
    "from math import pi\n",
    "import matplotlib.pyplot as plt\n",
    "import sklearn.gaussian_process as sk_gp\n",
    "import seaborn as sns; sns.set() # prettify matplotlib"
   ]
  },
  {
   "cell_type": "code",
   "execution_count": null,
   "metadata": {},
   "outputs": [],
   "source": [
    "import turbo as tb\n",
    "import turbo.gui.jupyter as tg\n",
    "import turbo.modules as tm\n",
    "import turbo.plotting as tp"
   ]
  },
  {
   "cell_type": "code",
   "execution_count": null,
   "metadata": {},
   "outputs": [],
   "source": [
    "# Make deterministic\n",
    "np.random.seed(42)"
   ]
  },
  {
   "cell_type": "code",
   "execution_count": null,
   "metadata": {},
   "outputs": [],
   "source": [
    "class BraninHoo:\n",
    "    def __init__(self):\n",
    "        self.bounds = [('x', -5., 10.), ('y', 0., 15.)]\n",
    "\n",
    "        self.global_optima = [(-pi, 12.275), (pi, 2.275), (9.42478, 2.475)]\n",
    "        self.optimal_y = 0.39788735772973816\n",
    "        self.max_y = self(-5, 0)\n",
    "\n",
    "        self.vectorized = np.vectorize(self.__call__)\n",
    "\n",
    "    def __call__(self, x, y):\n",
    "        return (y-(5.1/(4*pi**2))*x**2+5*x/pi-6)**2+10*(1-1/(8*pi))*np.cos(x)+10\n",
    "bh = BraninHoo()"
   ]
  },
  {
   "cell_type": "code",
   "execution_count": null,
   "metadata": {},
   "outputs": [],
   "source": [
    "def plot_surface():\n",
    "    x = np.linspace(bh.bounds[0][1], bh.bounds[0][2], 100)\n",
    "    y = np.linspace(bh.bounds[1][1], bh.bounds[1][2], 100)\n",
    "\n",
    "    X, Y = np.meshgrid(x, y)\n",
    "    \n",
    "    Z = bh.vectorized(X, Y)\n",
    "    tp.surface_3D(X, Y, Z)\n",
    "    return Z\n",
    "Z = plot_surface()"
   ]
  },
  {
   "cell_type": "code",
   "execution_count": null,
   "metadata": {},
   "outputs": [],
   "source": [
    "op = tb.Optimiser(bh, 'min', bh.bounds, pre_phase_trials=4, settings_preset='default')\n",
    "op.acquisition = tm.UCB(beta=1)\n",
    "\n",
    "op.surrogate = tm.SciKitGPSurrogate(model_params=dict(\n",
    "    kernel = 1.0 * sk_gp.kernels.Matern(nu=2.5) + sk_gp.kernels.WhiteKernel(),\n",
    "    normalize_y = True,\n",
    "), training_iterations=5)\n",
    "\n",
    "\n",
    "rec = tb.Recorder(op)"
   ]
  },
  {
   "cell_type": "code",
   "execution_count": null,
   "metadata": {},
   "outputs": [],
   "source": [
    "tg.OptimiserProgressBar(op)\n",
    "op.run(max_trials=15)"
   ]
  },
  {
   "cell_type": "code",
   "execution_count": null,
   "metadata": {},
   "outputs": [],
   "source": [
    "tp.plot_overview(rec)"
   ]
  },
  {
   "cell_type": "code",
   "execution_count": null,
   "metadata": {},
   "outputs": [],
   "source": [
    "tp.plot_error(rec, true_best=bh.optimal_y, log_scale=True);"
   ]
  },
  {
   "cell_type": "code",
   "execution_count": null,
   "metadata": {},
   "outputs": [],
   "source": [
    "tp.interactive_plot_trial_1D(rec);"
   ]
  },
  {
   "cell_type": "code",
   "execution_count": null,
   "metadata": {},
   "outputs": [],
   "source": [
    "tp.interactive_plot_trial_2D(rec, true_objective=Z);"
   ]
  },
  {
   "cell_type": "markdown",
   "metadata": {},
   "source": [
    "# Try optimising the same function with random search"
   ]
  },
  {
   "cell_type": "code",
   "execution_count": null,
   "metadata": {},
   "outputs": [],
   "source": [
    "ra = tb.Optimiser(bh, 'min', bh.bounds, pre_phase_trials=1, settings_preset='random_search')\n",
    "recr = tb.Recorder(ra)\n",
    "ra.run(max_trials=1000)"
   ]
  },
  {
   "cell_type": "code",
   "execution_count": null,
   "metadata": {},
   "outputs": [],
   "source": [
    "tp.plot_error(recr, true_best=bh.optimal_y, log_scale=True);"
   ]
  },
  {
   "cell_type": "code",
   "execution_count": null,
   "metadata": {},
   "outputs": [],
   "source": []
  }
 ],
 "metadata": {
  "kernelspec": {
   "display_name": "Python 3",
   "language": "python",
   "name": "python3"
  },
  "language_info": {
   "codemirror_mode": {
    "name": "ipython",
    "version": 3
   },
   "file_extension": ".py",
   "mimetype": "text/x-python",
   "name": "python",
   "nbconvert_exporter": "python",
   "pygments_lexer": "ipython3",
   "version": "3.6.3"
  },
  "varInspector": {
   "cols": {
    "lenName": 16,
    "lenType": 16,
    "lenVar": 40
   },
   "kernels_config": {
    "python": {
     "delete_cmd_postfix": "",
     "delete_cmd_prefix": "del ",
     "library": "var_list.py",
     "varRefreshCmd": "print(var_dic_list())"
    },
    "r": {
     "delete_cmd_postfix": ") ",
     "delete_cmd_prefix": "rm(",
     "library": "var_list.r",
     "varRefreshCmd": "cat(var_dic_list()) "
    }
   },
   "types_to_exclude": [
    "module",
    "function",
    "builtin_function_or_method",
    "instance",
    "_Feature"
   ],
   "window_display": false
  }
 },
 "nbformat": 4,
 "nbformat_minor": 2
}
