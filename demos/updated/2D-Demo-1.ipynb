{
 "cells": [
  {
   "cell_type": "markdown",
   "metadata": {},
   "source": [
    "# An Example 2D optimisation\n",
    "## Inspired by the following notebook:\n",
    "[this blog post](https://thuijskens.github.io/2016/12/29/bayesian-optimisation/) referring to \n",
    "[this notebook](https://github.com/thuijskens/bayesian-optimization/blob/master/ipython-notebooks/svm-optimization.ipynb)\n",
    "\n",
    "target function and inspiration for plotting from [here](https://github.com/fmfn/BayesianOptimization/issues/18)"
   ]
  },
  {
   "cell_type": "code",
   "execution_count": null,
   "metadata": {},
   "outputs": [],
   "source": [
    "%load_ext autoreload\n",
    "%autoreload 2"
   ]
  },
  {
   "cell_type": "code",
   "execution_count": null,
   "metadata": {},
   "outputs": [],
   "source": [
    "%matplotlib inline\n",
    "#%config InlineBackend.figure_format = 'svg'\n",
    "import matplotlib.pyplot as plt\n",
    "import seaborn as sns; sns.set() # prettify matplotlib\n",
    "\n",
    "import numpy as np\n",
    "import sklearn.gaussian_process as gp"
   ]
  },
  {
   "cell_type": "code",
   "execution_count": null,
   "metadata": {},
   "outputs": [],
   "source": [
    "# local modules\n",
    "import turbo as tb\n",
    "import turbo.modules as tm\n",
    "import turbo.plotting as tp\n",
    "import turbo.gui as tg"
   ]
  },
  {
   "cell_type": "code",
   "execution_count": null,
   "metadata": {},
   "outputs": [],
   "source": [
    "# Make deterministic\n",
    "np.random.seed(0)"
   ]
  },
  {
   "cell_type": "markdown",
   "metadata": {},
   "source": [
    "# Target Function"
   ]
  },
  {
   "cell_type": "code",
   "execution_count": null,
   "metadata": {},
   "outputs": [],
   "source": [
    "xmin, xmax = 0, 6\n",
    "ymin, ymax = 0, 6\n",
    "x = np.linspace(xmin, xmax, 100)\n",
    "y = np.linspace(ymin, ymax, 100)\n",
    "\n",
    "X, Y = np.meshgrid(x, y)\n",
    "\n",
    "# vectorize needed for accessing noise\n",
    "#@np.vectorize\n",
    "def f(x, y):\n",
    "    ''' from https://github.com/fmfn/BayesianOptimization/issues/18 '''\n",
    "    a = np.exp(-( (x - 2)**2/0.7 + (y - 4)**2/1.2) + (x - 2)*(y - 4)/1.6 )\n",
    "    b = np.exp(-( (x - 4)**2/3 + (y - 2)**2/2.) )\n",
    "    c = np.exp(-( (x - 4)**2/0.5 + (y - 4)**2/0.5) + (x - 4)*(y - 4)/0.5 )\n",
    "    d = np.sin(3.1415 * x)\n",
    "    e = np.exp(-( (x - 5.5)**2/0.5 + (y - 5.5)**2/.5) )\n",
    "    return 2*a + b - c + 0.17 * d + 2*e\n",
    "\n",
    "Z = f(X, Y)\n",
    "\n",
    "tp.surface_3D(X, Y, Z)\n",
    "\n",
    "def calc_best():\n",
    "    # 2.06434770773\n",
    "    x = np.linspace(2.0, 2.2, 1000)\n",
    "    y = np.linspace(3.9, 4.1, 1000)\n",
    "    return np.max(f(*np.meshgrid(x, y)))\n",
    "best_z = calc_best()"
   ]
  },
  {
   "cell_type": "markdown",
   "metadata": {},
   "source": [
    "# Helper Functions"
   ]
  },
  {
   "cell_type": "code",
   "execution_count": null,
   "metadata": {},
   "outputs": [],
   "source": [
    "bounds = [\n",
    "    ('x', xmin, xmax),\n",
    "    ('y', ymin, ymax)\n",
    "]\n",
    "\n",
    "op = tb.Optimiser(f, 'max', bounds, pre_phase_trials=4, settings_preset='default')\n",
    "op.surrogate = tm.SciKitGPSurrogate(model_params=dict(\n",
    "    alpha = 1e-3, # larger => more noise. Default = 1e-10\n",
    "    kernel = 1.0 * gp.kernels.RBF(length_scale_bounds=(1e-2, 5)),\n",
    "    n_restarts_optimizer = 10,\n",
    "    normalize_y = True\n",
    "))\n",
    "op.acq_func_factory = tm.UCB.Factory(beta=1)\n",
    "\n",
    "rec = tp.PlottingRecorder(op)"
   ]
  },
  {
   "cell_type": "code",
   "execution_count": null,
   "metadata": {},
   "outputs": [],
   "source": [
    "tg.OptimiserProgressBar(op)\n",
    "op.run(max_trials=15)"
   ]
  },
  {
   "cell_type": "code",
   "execution_count": null,
   "metadata": {},
   "outputs": [],
   "source": [
    "op.get_incumbent()"
   ]
  },
  {
   "cell_type": "code",
   "execution_count": null,
   "metadata": {},
   "outputs": [],
   "source": [
    "tp.plot_error(rec, true_best=best_z);"
   ]
  },
  {
   "cell_type": "code",
   "execution_count": null,
   "metadata": {},
   "outputs": [],
   "source": [
    "tp.plot_surrogate_hyper_params_2D(rec);"
   ]
  },
  {
   "cell_type": "code",
   "execution_count": null,
   "metadata": {},
   "outputs": [],
   "source": [
    "tp.interactive_plot_trial_1D(rec)"
   ]
  },
  {
   "cell_type": "code",
   "execution_count": null,
   "metadata": {},
   "outputs": [],
   "source": [
    "tp.interactive_plot_trial_2D(rec, true_objective=f);"
   ]
  },
  {
   "cell_type": "markdown",
   "metadata": {},
   "source": [
    "# Try optimising the same function with random search"
   ]
  },
  {
   "cell_type": "code",
   "execution_count": null,
   "metadata": {},
   "outputs": [],
   "source": [
    "ro = tb.Optimiser(f, 'max', bounds=bounds, pre_phase_trials=float('inf'), settings_preset='random_search')\n",
    "rrec = tp.PlottingRecorder(ro)"
   ]
  },
  {
   "cell_type": "code",
   "execution_count": null,
   "metadata": {},
   "outputs": [],
   "source": [
    "tg.OptimiserProgressBar(ro)\n",
    "ro.run(max_trials=100)"
   ]
  },
  {
   "cell_type": "code",
   "execution_count": null,
   "metadata": {},
   "outputs": [],
   "source": [
    "ro.get_incumbent()"
   ]
  },
  {
   "cell_type": "code",
   "execution_count": null,
   "metadata": {},
   "outputs": [],
   "source": [
    "tp.plot_error(rrec, true_best=best_z, log_scale=False, fig_ax=plt.subplots(figsize=(8, 3)));"
   ]
  },
  {
   "cell_type": "code",
   "execution_count": null,
   "metadata": {},
   "outputs": [],
   "source": [
    "tp.interactive_plot_trial_1D(rrec, param='x');"
   ]
  },
  {
   "cell_type": "code",
   "execution_count": null,
   "metadata": {},
   "outputs": [],
   "source": [
    "tp.interactive_plot_trial_2D(rrec, x_param='x', y_param='y', true_objective=f);"
   ]
  },
  {
   "cell_type": "code",
   "execution_count": null,
   "metadata": {},
   "outputs": [],
   "source": []
  }
 ],
 "metadata": {
  "kernelspec": {
   "display_name": "Python 3",
   "language": "python",
   "name": "python3"
  },
  "language_info": {
   "codemirror_mode": {
    "name": "ipython",
    "version": 3
   },
   "file_extension": ".py",
   "mimetype": "text/x-python",
   "name": "python",
   "nbconvert_exporter": "python",
   "pygments_lexer": "ipython3",
   "version": "3.6.3"
  },
  "varInspector": {
   "cols": {
    "lenName": 16,
    "lenType": 16,
    "lenVar": 40
   },
   "kernels_config": {
    "python": {
     "delete_cmd_postfix": "",
     "delete_cmd_prefix": "del ",
     "library": "var_list.py",
     "varRefreshCmd": "print(var_dic_list())"
    },
    "r": {
     "delete_cmd_postfix": ") ",
     "delete_cmd_prefix": "rm(",
     "library": "var_list.r",
     "varRefreshCmd": "cat(var_dic_list()) "
    }
   },
   "types_to_exclude": [
    "module",
    "function",
    "builtin_function_or_method",
    "instance",
    "_Feature"
   ],
   "window_display": false
  }
 },
 "nbformat": 4,
 "nbformat_minor": 2
}
