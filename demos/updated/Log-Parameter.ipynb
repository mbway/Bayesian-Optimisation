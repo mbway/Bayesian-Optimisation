{
 "cells": [
  {
   "cell_type": "markdown",
   "metadata": {},
   "source": [
    "# Logarithmic Parameters\n",
    "This notebook explores Bayesian optimisation of a function who's parameter is best thought of logarithmically (the order of magnitude is more important than the value itself)\n",
    "\n",
    "To accommodate this, the surrogate function is trained on the exponents of the values rather than the values themselves\n",
    "\n",
    "note: for this particular function, a $\\nu=2.5$ works better for the Matern kernel than $\\nu=1.5$."
   ]
  },
  {
   "cell_type": "code",
   "execution_count": null,
   "metadata": {},
   "outputs": [],
   "source": [
    "%load_ext autoreload\n",
    "%autoreload 2"
   ]
  },
  {
   "cell_type": "code",
   "execution_count": null,
   "metadata": {},
   "outputs": [],
   "source": [
    "from IPython.core.debugger import Tracer # debugging\n",
    "from IPython.display import clear_output\n",
    "import time\n",
    "\n",
    "%matplotlib inline\n",
    "%config InlineBackend.figure_format = 'svg'\n",
    "import matplotlib.pyplot as plt\n",
    "import seaborn as sns # prettify matplotlib\n",
    "\n",
    "import copy\n",
    "import numpy as np\n",
    "import sklearn.gaussian_process as gp"
   ]
  },
  {
   "cell_type": "code",
   "execution_count": null,
   "metadata": {},
   "outputs": [],
   "source": [
    "# local modules\n",
    "import turbo as tb\n",
    "import turbo.modules as tm\n",
    "import turbo.gui as tg\n",
    "import turbo.plotting as tp"
   ]
  },
  {
   "cell_type": "code",
   "execution_count": null,
   "metadata": {},
   "outputs": [],
   "source": [
    "# make deterministic\n",
    "np.random.seed(100)"
   ]
  },
  {
   "cell_type": "markdown",
   "metadata": {},
   "source": [
    "Function to optimize:"
   ]
  },
  {
   "cell_type": "code",
   "execution_count": null,
   "metadata": {},
   "outputs": [],
   "source": [
    "f = lambda x: np.cos(2*(20-x)**2)/x - 2*np.log(x)\n",
    "x_min = 0.005\n",
    "x_max = 5\n",
    "def logspace(from_, to, num_per_mag=1):\n",
    "    '''\n",
    "    num_per_mag: number of samples per order of magnitude\n",
    "    '''\n",
    "    from_exp = np.log10(from_)\n",
    "    to_exp = np.log10(to)\n",
    "    num = abs(to_exp-from_exp)*num_per_mag + 1\n",
    "    return np.logspace(from_exp, to_exp, num=num, base=10)\n",
    "\n",
    "xs = logspace(x_min, x_max, num_per_mag=200)\n",
    "#xs = np.linspace(x_min, x_max, num=601)\n",
    "print(len(xs))\n",
    "ys = f(xs)\n",
    "best_y = np.max(ys)"
   ]
  },
  {
   "cell_type": "code",
   "execution_count": null,
   "metadata": {},
   "outputs": [],
   "source": [
    "plt.figure(figsize=(16,4))\n",
    "plt.plot(xs, ys, 'g-')\n",
    "plt.margins(0.01, 0.1)\n",
    "plt.title('Linear Scale')\n",
    "plt.xlabel('x')\n",
    "plt.ylabel('cost')\n",
    "plt.show()"
   ]
  },
  {
   "cell_type": "code",
   "execution_count": null,
   "metadata": {},
   "outputs": [],
   "source": [
    "plt.figure(figsize=(16,4))\n",
    "plt.plot(xs, ys, 'g-')\n",
    "plt.margins(0.1, 0.1)\n",
    "plt.title('Logarithmic Scale')\n",
    "plt.xlabel('x')\n",
    "plt.axes().set_xscale('log')\n",
    "plt.ylabel('cost')\n",
    "plt.show()"
   ]
  },
  {
   "cell_type": "code",
   "execution_count": null,
   "metadata": {},
   "outputs": [],
   "source": [
    "bounds = [('x', x_min, x_max)]\n",
    "op = tb.Optimiser(f, 'max', bounds, pre_phase_trials=2, settings_preset='default')\n",
    "op.latent_space = tm.NoLatentSpace()\n",
    "# this function is very difficult to fit effectively, I found that the only way to make the GP behave is\n",
    "# to use the domain knowledge that the length_scale can't be anywhere near the default maximum of 100,000\n",
    "op.surrogate_factory = tm.SciKitGPSurrogate.Factory(gp_params=dict(\n",
    "    alpha = 1e-10, # larger => more noise. Default = 1e-10\n",
    "    kernel = 1.0 * gp.kernels.Matern(nu=2.5, length_scale_bounds=(1e-5, 10))+gp.kernels.WhiteKernel(),\n",
    "), variable_iterations=lambda trial_num: 4 if (trial_num-2) % 3 == 0 else 1)\n",
    "op.acq_func_factory = tm.UCB.Factory(beta=2)\n",
    "\n",
    "op_log = copy.deepcopy(op)\n",
    "\n",
    "rec = tp.PlottingRecorder(op)"
   ]
  },
  {
   "cell_type": "markdown",
   "metadata": {},
   "source": [
    "# To illustrate the problem"
   ]
  },
  {
   "cell_type": "code",
   "execution_count": null,
   "metadata": {},
   "outputs": [],
   "source": [
    "tg.OptimiserProgressBar(op)\n",
    "op.run(max_trials=30)"
   ]
  },
  {
   "cell_type": "code",
   "execution_count": null,
   "metadata": {},
   "outputs": [],
   "source": [
    "tp.plot_error_over_time(rec, true_best=best_y)"
   ]
  },
  {
   "cell_type": "code",
   "execution_count": null,
   "metadata": {},
   "outputs": [],
   "source": [
    "tp.interactive_plot_trial_1D(rec, param='x', true_objective=f)"
   ]
  },
  {
   "cell_type": "markdown",
   "metadata": {},
   "source": [
    "# Now with a Logarithmic latent space mapping"
   ]
  },
  {
   "cell_type": "code",
   "execution_count": null,
   "metadata": {},
   "outputs": [],
   "source": [
    "op_log.latent_space = tm.ConstantLatentSpace(mappings={'x' : tm.LogMap()})\n",
    "rec_log = tp.PlottingRecorder(op_log)"
   ]
  },
  {
   "cell_type": "code",
   "execution_count": null,
   "metadata": {},
   "outputs": [],
   "source": [
    "tg.OptimiserProgressBar(op_log)\n",
    "op_log.run(max_trials=15)"
   ]
  },
  {
   "cell_type": "code",
   "execution_count": null,
   "metadata": {},
   "outputs": [],
   "source": [
    "tp.plot_error_over_time(rec_log, true_best=best_y)"
   ]
  },
  {
   "cell_type": "code",
   "execution_count": null,
   "metadata": {},
   "outputs": [],
   "source": [
    "for l in [False, True]:\n",
    "    tp.plot_trial_1D(rec_log, param='x', trial_num=-1, true_objective=f, plot_in_latent_space=l)"
   ]
  },
  {
   "cell_type": "code",
   "execution_count": null,
   "metadata": {},
   "outputs": [],
   "source": [
    "tp.interactive_plot_trial_1D(rec_log, true_objective=f)"
   ]
  },
  {
   "cell_type": "code",
   "execution_count": null,
   "metadata": {},
   "outputs": [],
   "source": []
  }
 ],
 "metadata": {
  "kernelspec": {
   "display_name": "Python 3",
   "language": "python",
   "name": "python3"
  },
  "language_info": {
   "codemirror_mode": {
    "name": "ipython",
    "version": 3
   },
   "file_extension": ".py",
   "mimetype": "text/x-python",
   "name": "python",
   "nbconvert_exporter": "python",
   "pygments_lexer": "ipython3",
   "version": "3.5.2"
  },
  "varInspector": {
   "cols": {
    "lenName": 16,
    "lenType": 16,
    "lenVar": 40
   },
   "kernels_config": {
    "python": {
     "delete_cmd_postfix": "",
     "delete_cmd_prefix": "del ",
     "library": "var_list.py",
     "varRefreshCmd": "print(var_dic_list())"
    },
    "r": {
     "delete_cmd_postfix": ") ",
     "delete_cmd_prefix": "rm(",
     "library": "var_list.r",
     "varRefreshCmd": "cat(var_dic_list()) "
    }
   },
   "types_to_exclude": [
    "module",
    "function",
    "builtin_function_or_method",
    "instance",
    "_Feature"
   ],
   "window_display": false
  }
 },
 "nbformat": 4,
 "nbformat_minor": 2
}
