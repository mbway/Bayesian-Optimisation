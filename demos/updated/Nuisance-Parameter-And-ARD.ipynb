{
 "cells": [
  {
   "cell_type": "markdown",
   "metadata": {},
   "source": [
    "# Nuisance Parameters\n",
    "In this notebook, Bayesian Optimisation is used on a fundamentally 1D problem, pretending to be 2D with the addition of a nuisance parameter.\n",
    "\n",
    "by using an 'automatic relevance detection' (ARD) kernel, the problems caused by nuisance parameters can be mitigated, by using 'less precision' along those dimensions. Below, the predictions from ARD and non-ARD surrogates is plotted. See how the ARD surrogate matches the true objective function much better.\n",
    "\n",
    "An ARD kernel is formed when different length scales are used for each dimension"
   ]
  },
  {
   "cell_type": "code",
   "execution_count": null,
   "metadata": {},
   "outputs": [],
   "source": [
    "%load_ext autoreload\n",
    "%autoreload 2\n",
    "%matplotlib inline"
   ]
  },
  {
   "cell_type": "code",
   "execution_count": null,
   "metadata": {},
   "outputs": [],
   "source": [
    "import numpy as np\n",
    "import sklearn.gaussian_process as gp\n",
    "import matplotlib.pyplot as plt\n",
    "import seaborn as sns # prettify matplotlib"
   ]
  },
  {
   "cell_type": "code",
   "execution_count": null,
   "metadata": {},
   "outputs": [],
   "source": [
    "# local modules\n",
    "import turbo as tb\n",
    "import turbo.modules as tm\n",
    "import turbo.plotting as tp\n",
    "import turbo.gui as tg"
   ]
  },
  {
   "cell_type": "code",
   "execution_count": null,
   "metadata": {},
   "outputs": [],
   "source": [
    "# Make deterministic\n",
    "np.random.seed(100)"
   ]
  },
  {
   "cell_type": "markdown",
   "metadata": {},
   "source": [
    "# Target Function"
   ]
  },
  {
   "cell_type": "code",
   "execution_count": null,
   "metadata": {},
   "outputs": [],
   "source": [
    "xmin, xmax = -2, 10\n",
    "nuisance_min, nuisance_max = 0, 10\n",
    "xs = np.linspace(xmin, xmax, 100)\n",
    "nuisance = np.linspace(nuisance_min, nuisance_max, 100)\n",
    "\n",
    "f = lambda x: np.exp(-(x - 2)**2) + np.exp(-(x - 6)**2/10) + 1/ (x**2 + 1) + \\\n",
    "    np.random.normal(0, 0.02, size=None if isinstance(x, float) else x.shape)\n",
    "f2D = lambda x, nuisance: f(x)\n",
    "\n",
    "ys = f(xs)\n",
    "best_y = np.max(ys)\n",
    "\n",
    "X,Y = np.meshgrid(xs, nuisance)\n",
    "Z = f2D(X, Y)"
   ]
  },
  {
   "cell_type": "code",
   "execution_count": null,
   "metadata": {},
   "outputs": [],
   "source": [
    "plt.figure(figsize=(16,6))\n",
    "plt.plot(xs, ys)\n",
    "plt.show()"
   ]
  },
  {
   "cell_type": "code",
   "execution_count": null,
   "metadata": {},
   "outputs": [],
   "source": [
    "tp.surface_3D(X, Y, Z)"
   ]
  },
  {
   "cell_type": "code",
   "execution_count": null,
   "metadata": {},
   "outputs": [],
   "source": [
    "bounds1D = [('x', xmin, xmax)]\n",
    "bounds2D = [('x', xmin, xmax), ('nuisance', nuisance_min, nuisance_max)]\n",
    "\n",
    "gp_params = dict(\n",
    "    alpha = 1e-5, # larger => more noise. Default = 1e-10\n",
    "    kernel = 1.0 * gp.kernels.Matern(nu=2.5) + gp.kernels.WhiteKernel(),\n",
    "    n_restarts_optimizer = 3,\n",
    ")\n",
    "\n",
    "op1D = tb.Optimiser(f, 'max', bounds1D, pre_phase_trials=4, settings_preset='default')\n",
    "op1D.surrogate_factory =  tm.SciKitGPSurrogate.Factory(gp_params)\n",
    "\n",
    "rec1D = tp.PlottingRecorder(op1D)\n",
    "\n",
    "op2D = tb.Optimiser(f2D, 'max', bounds2D, pre_phase_trials=4, settings_preset='default')\n",
    "op2D.surrogate_factory =  tm.SciKitGPSurrogate.Factory(gp_params=gp_params)\n",
    "rec2D = tp.PlottingRecorder(op2D)\n",
    "\n",
    "\n",
    "gp_params_ARD = dict(\n",
    "    alpha = 1e-5, # larger => more noise. Default = 1e-10\n",
    "    kernel = 1.0 * gp.kernels.Matern(length_scale=(1.0, 1.0), nu=2.5) + gp.kernels.WhiteKernel(),\n",
    "    n_restarts_optimizer = 3,\n",
    ")\n",
    "op2DARD = tb.Optimiser(f2D, 'max', bounds2D, pre_phase_trials=4, settings_preset='default')\n",
    "op2DARD.surrogate_factory =  tm.SciKitGPSurrogate.Factory(gp_params=gp_params_ARD)\n",
    "rec2DARD = tp.PlottingRecorder(op2DARD)"
   ]
  },
  {
   "cell_type": "code",
   "execution_count": null,
   "metadata": {},
   "outputs": [],
   "source": [
    "tg.OptimiserProgressBar(op1D)\n",
    "op1D.run(max_trials=25)\n",
    "\n",
    "tg.OptimiserProgressBar(op2D)\n",
    "np.random.seed(0)\n",
    "op2D.run(max_trials=25)\n",
    "\n",
    "tg.OptimiserProgressBar(op2DARD)\n",
    "np.random.seed(0)\n",
    "op2DARD.run(max_trials=25)"
   ]
  },
  {
   "cell_type": "code",
   "execution_count": null,
   "metadata": {},
   "outputs": [],
   "source": [
    "tp.plot_error_over_time(rec1D, true_best=best_y);\n",
    "tp.plot_error_over_time(rec2D, true_best=best_y);\n",
    "tp.plot_error_over_time(rec2DARD, true_best=best_y);"
   ]
  },
  {
   "cell_type": "code",
   "execution_count": null,
   "metadata": {},
   "outputs": [],
   "source": [
    "tp.plot_trial_1D(rec1D, param='x', trial_num=15, true_objective=f);"
   ]
  },
  {
   "cell_type": "code",
   "execution_count": null,
   "metadata": {},
   "outputs": [],
   "source": [
    "tp.interactive_plot_trial_2D(rec2D, trial_num=15, true_objective=f2D);"
   ]
  },
  {
   "cell_type": "code",
   "execution_count": null,
   "metadata": {},
   "outputs": [],
   "source": [
    "tp.interactive_plot_trial_2D(rec2DARD, trial_num=15, true_objective=f2D);"
   ]
  },
  {
   "cell_type": "code",
   "execution_count": null,
   "metadata": {},
   "outputs": [],
   "source": []
  }
 ],
 "metadata": {
  "kernelspec": {
   "display_name": "Python 3",
   "language": "python",
   "name": "python3"
  },
  "language_info": {
   "codemirror_mode": {
    "name": "ipython",
    "version": 3
   },
   "file_extension": ".py",
   "mimetype": "text/x-python",
   "name": "python",
   "nbconvert_exporter": "python",
   "pygments_lexer": "ipython3",
   "version": "3.5.2"
  },
  "varInspector": {
   "cols": {
    "lenName": 16,
    "lenType": 16,
    "lenVar": 40
   },
   "kernels_config": {
    "python": {
     "delete_cmd_postfix": "",
     "delete_cmd_prefix": "del ",
     "library": "var_list.py",
     "varRefreshCmd": "print(var_dic_list())"
    },
    "r": {
     "delete_cmd_postfix": ") ",
     "delete_cmd_prefix": "rm(",
     "library": "var_list.r",
     "varRefreshCmd": "cat(var_dic_list()) "
    }
   },
   "types_to_exclude": [
    "module",
    "function",
    "builtin_function_or_method",
    "instance",
    "_Feature"
   ],
   "window_display": false
  }
 },
 "nbformat": 4,
 "nbformat_minor": 2
}
