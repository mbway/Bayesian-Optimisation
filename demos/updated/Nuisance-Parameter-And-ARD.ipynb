{
 "cells": [
  {
   "cell_type": "markdown",
   "metadata": {},
   "source": [
    "# Nuisance Parameters\n",
    "In this notebook, Bayesian Optimisation is used on a fundamentally 1D problem, pretending to be 2D with the addition of a nuisance parameter.\n",
    "\n",
    "by using an 'automatic relevance detection' (ARD) kernel, the problems caused by nuisance parameters can be mitigated, by using 'less precision' along those dimensions. Below, the predictions from ARD and non-ARD surrogates is plotted. See how the ARD surrogate matches the true objective function much better.\n",
    "\n",
    "An ARD kernel is formed when different length scales are used for each dimension"
   ]
  },
  {
   "cell_type": "code",
   "execution_count": null,
   "metadata": {},
   "outputs": [],
   "source": [
    "%load_ext autoreload\n",
    "%autoreload 2\n",
    "%matplotlib inline"
   ]
  },
  {
   "cell_type": "code",
   "execution_count": null,
   "metadata": {},
   "outputs": [],
   "source": [
    "import numpy as np\n",
    "import sklearn.gaussian_process as gp\n",
    "import GPy\n",
    "import matplotlib.pyplot as plt\n",
    "import seaborn as sns; sns.set() # prettify matplotlib"
   ]
  },
  {
   "cell_type": "code",
   "execution_count": null,
   "metadata": {},
   "outputs": [],
   "source": [
    "# local modules\n",
    "import turbo as tb\n",
    "import turbo.modules as tm\n",
    "import turbo.plotting as tp\n",
    "import turbo.gui.jupyter as tg"
   ]
  },
  {
   "cell_type": "code",
   "execution_count": null,
   "metadata": {},
   "outputs": [],
   "source": [
    "# Make deterministic\n",
    "np.random.seed(100)"
   ]
  },
  {
   "cell_type": "code",
   "execution_count": null,
   "metadata": {},
   "outputs": [],
   "source": [
    "surrogate = 'GPy' # can be 'GPy' or 'scikit'"
   ]
  },
  {
   "cell_type": "markdown",
   "metadata": {},
   "source": [
    "# Target Function"
   ]
  },
  {
   "cell_type": "code",
   "execution_count": null,
   "metadata": {},
   "outputs": [],
   "source": [
    "xmin, xmax = 0, 12\n",
    "nuisance_min, nuisance_max = 0, 10\n",
    "xs = np.linspace(xmin, xmax, 200)\n",
    "nuisance = np.linspace(nuisance_min, nuisance_max, 100)\n",
    "\n",
    "#f = lambda x: np.exp(-(x - 2)**2) + np.exp(-(x - 6)**2/10) + 1/ (x**2 + 1) + \\\n",
    "    #np.random.normal(0, 0.02, size=None if isinstance(x, float) else x.shape)\n",
    "f = lambda x: 100 * np.sin(x**2/5) * np.cos(x*1.5) + 100 + \\\n",
    "    np.random.normal(0, 2, size=None if isinstance(x, float) else x.shape)\n",
    "f2D = lambda x, nuisance: f(x)\n",
    "\n",
    "ys = f(xs)\n",
    "best_y = np.max(ys)\n",
    "\n",
    "X,Y = np.meshgrid(xs, nuisance)\n",
    "Z = f2D(X, Y)"
   ]
  },
  {
   "cell_type": "code",
   "execution_count": null,
   "metadata": {},
   "outputs": [],
   "source": [
    "plt.figure(figsize=(16,6))\n",
    "plt.plot(xs, ys)\n",
    "plt.show()"
   ]
  },
  {
   "cell_type": "code",
   "execution_count": null,
   "metadata": {},
   "outputs": [],
   "source": [
    "tp.surface_3D(X, Y, Z)"
   ]
  },
  {
   "cell_type": "code",
   "execution_count": null,
   "metadata": {},
   "outputs": [],
   "source": [
    "bounds1D = [('x', xmin, xmax)]\n",
    "bounds2D = [('x', xmin, xmax), ('nuisance', nuisance_min, nuisance_max)]\n",
    "\n",
    "pre_phase = 8\n",
    "iterations = 10\n",
    "\n",
    "if surrogate == 'GPy':\n",
    "    sur1 = tm.GPySurrogate(model_params=dict(kernel=GPy.kern.Matern52(input_dim=1), normalizer=True), training_iterations=iterations)\n",
    "    sur2 = tm.GPySurrogate(model_params=dict(kernel=GPy.kern.Matern52(input_dim=2), normalizer=True), training_iterations=iterations)\n",
    "    sur3 = tm.GPySurrogate(model_params=dict(kernel=GPy.kern.Matern52(input_dim=2, ARD=True), normalizer=True), training_iterations=iterations)\n",
    "    \n",
    "elif surrogate == 'scikit':\n",
    "    model_params = dict(\n",
    "        alpha = 1e-5, # larger => more noise. Default = 1e-10\n",
    "        kernel = 1.0 * gp.kernels.Matern(nu=2.5) + gp.kernels.WhiteKernel(),\n",
    "        normalize_y = True\n",
    "    )\n",
    "    sur1 = tm.SciKitGPSurrogate(model_params=model_params, training_iterations=iterations)\n",
    "    sur2 = tm.SciKitGPSurrogate(model_params=model_params, training_iterations=iterations)\n",
    "    # the only change is the use of multiple length scales\n",
    "    model_params_ARD = dict(\n",
    "        alpha = 1e-5, # larger => more noise. Default = 1e-10\n",
    "        kernel = 1.0 * gp.kernels.Matern(length_scale=(1.0, 1.0), nu=2.5) + gp.kernels.WhiteKernel(),\n",
    "    )\n",
    "    sur3 = tm.SciKitGPSurrogate(model_params=model_params_ARD, training_iterations=iterations)\n",
    "else:\n",
    "    raise ValueError()\n",
    "\n",
    "op1D = tb.Optimiser(f, 'max', bounds1D, pre_phase_trials=pre_phase, settings_preset='default')\n",
    "op1D.acq_func_factory = tm.UCB.Factory(beta=2)\n",
    "op1D.surrogate = sur1\n",
    "\n",
    "rec1D = tp.PlottingRecorder(op1D)\n",
    "\n",
    "op2D = tb.Optimiser(f2D, 'max', bounds2D, pre_phase_trials=pre_phase, settings_preset='default')\n",
    "op2D.acq_func_factory = tm.UCB.Factory(beta=2)\n",
    "op2D.surrogate = sur2\n",
    "rec2D = tp.PlottingRecorder(op2D)\n",
    "\n",
    "op2DARD = tb.Optimiser(f2D, 'max', bounds2D, pre_phase_trials=pre_phase, settings_preset='default')\n",
    "op2DARD.acq_func_factory = tm.UCB.Factory(beta=2)\n",
    "op2DARD.surrogate = sur3\n",
    "rec2DARD = tp.PlottingRecorder(op2DARD)"
   ]
  },
  {
   "cell_type": "code",
   "execution_count": null,
   "metadata": {},
   "outputs": [],
   "source": [
    "tg.OptimiserProgressBar(op1D)\n",
    "np.random.seed(0)\n",
    "op1D.run(max_trials=25)\n",
    "\n",
    "tg.OptimiserProgressBar(op2D)\n",
    "np.random.seed(0)\n",
    "op2D.run(max_trials=25)\n",
    "\n",
    "tg.OptimiserProgressBar(op2DARD)\n",
    "np.random.seed(0)\n",
    "op2DARD.run(max_trials=25)"
   ]
  },
  {
   "cell_type": "code",
   "execution_count": null,
   "metadata": {},
   "outputs": [],
   "source": [
    "tp.plot_error(rec1D, true_best=best_y);\n",
    "tp.plot_error(rec2D, true_best=best_y);\n",
    "tp.plot_error(rec2DARD, true_best=best_y);"
   ]
  },
  {
   "cell_type": "code",
   "execution_count": null,
   "metadata": {},
   "outputs": [],
   "source": [
    "tp.plot_trial_1D(rec1D, param='x', trial_num=-1, true_objective=f);"
   ]
  },
  {
   "cell_type": "code",
   "execution_count": null,
   "metadata": {},
   "outputs": [],
   "source": [
    "tp.interactive_plot_trial_2D(rec2D, trial_num=-1, true_objective=f2D);"
   ]
  },
  {
   "cell_type": "code",
   "execution_count": null,
   "metadata": {},
   "outputs": [],
   "source": [
    "tp.interactive_plot_trial_1D(rec2D, trial_num=-1);"
   ]
  },
  {
   "cell_type": "code",
   "execution_count": null,
   "metadata": {},
   "outputs": [],
   "source": [
    "tp.interactive_plot_trial_2D(rec2DARD, trial_num=-1, true_objective=f2D);"
   ]
  },
  {
   "cell_type": "code",
   "execution_count": null,
   "metadata": {},
   "outputs": [],
   "source": [
    "tp.interactive_plot_trial_1D(rec2DARD, trial_num=-1);"
   ]
  },
  {
   "cell_type": "code",
   "execution_count": null,
   "metadata": {},
   "outputs": [],
   "source": []
  }
 ],
 "metadata": {
  "kernelspec": {
   "display_name": "Python 3",
   "language": "python",
   "name": "python3"
  },
  "language_info": {
   "codemirror_mode": {
    "name": "ipython",
    "version": 3
   },
   "file_extension": ".py",
   "mimetype": "text/x-python",
   "name": "python",
   "nbconvert_exporter": "python",
   "pygments_lexer": "ipython3",
   "version": "3.6.3"
  },
  "varInspector": {
   "cols": {
    "lenName": 16,
    "lenType": 16,
    "lenVar": 40
   },
   "kernels_config": {
    "python": {
     "delete_cmd_postfix": "",
     "delete_cmd_prefix": "del ",
     "library": "var_list.py",
     "varRefreshCmd": "print(var_dic_list())"
    },
    "r": {
     "delete_cmd_postfix": ") ",
     "delete_cmd_prefix": "rm(",
     "library": "var_list.r",
     "varRefreshCmd": "cat(var_dic_list()) "
    }
   },
   "types_to_exclude": [
    "module",
    "function",
    "builtin_function_or_method",
    "instance",
    "_Feature"
   ],
   "window_display": false
  }
 },
 "nbformat": 4,
 "nbformat_minor": 2
}
