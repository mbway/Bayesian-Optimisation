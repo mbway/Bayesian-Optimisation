{
 "cells": [
  {
   "cell_type": "code",
   "execution_count": null,
   "metadata": {},
   "outputs": [],
   "source": [
    "%load_ext autoreload\n",
    "%autoreload 2"
   ]
  },
  {
   "cell_type": "code",
   "execution_count": null,
   "metadata": {},
   "outputs": [],
   "source": [
    "%matplotlib inline\n",
    "%config InlineBackend.figure_format = 'svg'\n",
    "import matplotlib.pyplot as plt\n",
    "import seaborn as sns; sns.set() # prettify matplotlib\n",
    "\n",
    "import numpy as np\n",
    "import sklearn.gaussian_process as gp\n",
    "import GPy"
   ]
  },
  {
   "cell_type": "code",
   "execution_count": null,
   "metadata": {},
   "outputs": [],
   "source": [
    "# local modules\n",
    "import turbo as tb\n",
    "import turbo.modules as tm\n",
    "import turbo.plotting as tp\n",
    "import turbo.gui as tg"
   ]
  },
  {
   "cell_type": "code",
   "execution_count": null,
   "metadata": {},
   "outputs": [],
   "source": [
    "# make deterministic\n",
    "np.random.seed(42)"
   ]
  },
  {
   "cell_type": "markdown",
   "metadata": {},
   "source": [
    "Function to optimize:"
   ]
  },
  {
   "cell_type": "code",
   "execution_count": null,
   "metadata": {},
   "outputs": [],
   "source": [
    "#f = lambda x: 1 * x * np.cos(x)\n",
    "f = lambda x: 100 * np.sin(x**2/5) * np.cos(x*1.5) + 100\n",
    "xmin, xmax = 0, 12\n",
    "xs = np.linspace(xmin, xmax, num=200)\n",
    "\n",
    "ys = f(xs)\n",
    "best_y = np.min(ys)\n",
    "best_x = xs[np.argmin(ys)]"
   ]
  },
  {
   "cell_type": "code",
   "execution_count": null,
   "metadata": {},
   "outputs": [],
   "source": [
    "plt.figure(figsize=(12, 4))\n",
    "plt.plot(xs, ys, 'g-', label='objective')\n",
    "plt.plot(best_x, best_y, 'bo', label='optima')\n",
    "plt.legend(loc='upper left')\n",
    "plt.margins(0.01, 0.1)\n",
    "plt.xlabel(r'$x$')\n",
    "plt.ylabel(r'$f(x)$')\n",
    "plt.show()"
   ]
  },
  {
   "cell_type": "markdown",
   "metadata": {},
   "source": [
    "# Optimisation"
   ]
  },
  {
   "cell_type": "code",
   "execution_count": null,
   "metadata": {},
   "outputs": [],
   "source": [
    "op = tb.Optimiser(f, 'min', bounds=[('x', xmin, xmax)], pre_phase_trials=6, settings_preset='default')\n",
    "#op.surrogate_factory = tm.SciKitGPSurrogate(model_params=dict(kernel=1.0*gp.kernels.RBF()+gp.kernels.WhiteKernel(), normalize_y=True))\n",
    "kernel = GPy.kern.RBF(input_dim=1) + GPy.kern.White(input_dim=1)\n",
    "#kernel.white.variance.set_prior(GPy.priors.Gamma.from_EV(0.8, 0.4))\n",
    "op.surrogate = tm.GPySurrogate(model_params=dict(kernel=kernel, noise_var=1e-10, normalizer=True))\n",
    "op.acq_func_factory = tm.UCB.Factory(beta=2)\n",
    "rec = tp.PlottingRecorder(op)"
   ]
  },
  {
   "cell_type": "code",
   "execution_count": null,
   "metadata": {},
   "outputs": [],
   "source": [
    "tg.OptimiserProgressBar(op)\n",
    "op.run(max_trials=25)"
   ]
  },
  {
   "cell_type": "code",
   "execution_count": null,
   "metadata": {},
   "outputs": [],
   "source": [
    "op.get_incumbent()"
   ]
  },
  {
   "cell_type": "code",
   "execution_count": null,
   "metadata": {},
   "outputs": [],
   "source": [
    "tp.plot_error_over_time(rec, true_best=best_y, log_scale=False, fig_ax=plt.subplots(figsize=(8, 3)));"
   ]
  },
  {
   "cell_type": "code",
   "execution_count": null,
   "metadata": {},
   "outputs": [],
   "source": [
    "tp.interactive_plot_trial_1D(rec, param='x', true_objective=f)"
   ]
  },
  {
   "cell_type": "markdown",
   "metadata": {},
   "source": [
    "# Try optimising the same function with random search"
   ]
  },
  {
   "cell_type": "code",
   "execution_count": null,
   "metadata": {},
   "outputs": [],
   "source": [
    "ro = tb.Optimiser(f, 'min', bounds=[('x', xmin, xmax)], pre_phase_trials=float('inf'), settings_preset='random_search')\n",
    "rrec = tp.PlottingRecorder(ro)"
   ]
  },
  {
   "cell_type": "code",
   "execution_count": null,
   "metadata": {},
   "outputs": [],
   "source": [
    "tg.OptimiserProgressBar(ro)\n",
    "ro.run(max_trials=100)"
   ]
  },
  {
   "cell_type": "code",
   "execution_count": null,
   "metadata": {},
   "outputs": [],
   "source": [
    "ro.get_incumbent()"
   ]
  },
  {
   "cell_type": "code",
   "execution_count": null,
   "metadata": {},
   "outputs": [],
   "source": [
    "tp.plot_error_over_time(rrec, true_best=best_y, log_scale=False, fig_ax=plt.subplots(figsize=(8, 3)))"
   ]
  },
  {
   "cell_type": "code",
   "execution_count": null,
   "metadata": {},
   "outputs": [],
   "source": [
    "tp.interactive_plot_trial_1D(rrec, param='x', true_objective=f)"
   ]
  },
  {
   "cell_type": "code",
   "execution_count": null,
   "metadata": {},
   "outputs": [],
   "source": []
  }
 ],
 "metadata": {
  "kernelspec": {
   "display_name": "Python 3",
   "language": "python",
   "name": "python3"
  },
  "language_info": {
   "codemirror_mode": {
    "name": "ipython",
    "version": 3
   },
   "file_extension": ".py",
   "mimetype": "text/x-python",
   "name": "python",
   "nbconvert_exporter": "python",
   "pygments_lexer": "ipython3",
   "version": "3.6.3"
  },
  "varInspector": {
   "cols": {
    "lenName": 16,
    "lenType": 16,
    "lenVar": 40
   },
   "kernels_config": {
    "python": {
     "delete_cmd_postfix": "",
     "delete_cmd_prefix": "del ",
     "library": "var_list.py",
     "varRefreshCmd": "print(var_dic_list())"
    },
    "r": {
     "delete_cmd_postfix": ") ",
     "delete_cmd_prefix": "rm(",
     "library": "var_list.r",
     "varRefreshCmd": "cat(var_dic_list()) "
    }
   },
   "types_to_exclude": [
    "module",
    "function",
    "builtin_function_or_method",
    "instance",
    "_Feature"
   ],
   "window_display": false
  }
 },
 "nbformat": 4,
 "nbformat_minor": 2
}
