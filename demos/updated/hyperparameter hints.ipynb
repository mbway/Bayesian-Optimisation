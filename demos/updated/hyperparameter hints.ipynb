{
 "cells": [
  {
   "cell_type": "markdown",
   "metadata": {},
   "source": [
    "# The effect of using hyper parameter hints"
   ]
  },
  {
   "cell_type": "code",
   "execution_count": null,
   "metadata": {},
   "outputs": [],
   "source": [
    "%load_ext autoreload\n",
    "%autoreload 2"
   ]
  },
  {
   "cell_type": "code",
   "execution_count": null,
   "metadata": {},
   "outputs": [],
   "source": [
    "%matplotlib inline\n",
    "%config InlineBackend.figure_format = 'svg'\n",
    "import matplotlib.pyplot as plt\n",
    "import seaborn as sns # prettify matplotlib\n",
    "\n",
    "import numpy as np\n",
    "import sklearn.gaussian_process as gp"
   ]
  },
  {
   "cell_type": "code",
   "execution_count": null,
   "metadata": {},
   "outputs": [],
   "source": [
    "# local modules\n",
    "import turbo as tb\n",
    "import turbo.modules as tm\n",
    "import turbo.plotting as tp\n",
    "import turbo.gui as tg"
   ]
  },
  {
   "cell_type": "markdown",
   "metadata": {},
   "source": [
    "Function to optimize:"
   ]
  },
  {
   "cell_type": "code",
   "execution_count": null,
   "metadata": {},
   "outputs": [],
   "source": [
    "f = lambda x: 1 * x * np.cos(x)\n",
    "xmin, xmax = 0, 12\n",
    "xs = np.linspace(xmin, xmax, num=200)\n",
    "\n",
    "ys = f(xs)\n",
    "best_y = np.min(ys)\n",
    "best_x = xs[np.argmin(ys)]"
   ]
  },
  {
   "cell_type": "code",
   "execution_count": null,
   "metadata": {},
   "outputs": [],
   "source": [
    "plt.figure(figsize=(12, 4))\n",
    "plt.plot(xs, ys, 'g-', label='objective')\n",
    "plt.plot(best_x, best_y, 'bo', label='optima')\n",
    "plt.legend(loc='upper left')\n",
    "plt.margins(0.01, 0.1)\n",
    "plt.xlabel(r'$x$')\n",
    "plt.ylabel(r'$f(x)$')\n",
    "plt.show()"
   ]
  },
  {
   "cell_type": "code",
   "execution_count": null,
   "metadata": {},
   "outputs": [],
   "source": [
    "def create_optimiser(use_hint):\n",
    "    bounds = [\n",
    "        ('x', xmin, xmax)\n",
    "    ]\n",
    "\n",
    "    op = tb.Optimiser(f, 'min', bounds)\n",
    "    op.latent_space = tm.NoLatentSpace()\n",
    "    op.plan = tm.Plan(pre_phase_trials=3)\n",
    "    op.pre_phase_select = tm.random_selector()\n",
    "    op.maximise_acq = tm.random_quasi_newton(num_random=100, grad_restarts=5)\n",
    "    op.async_eval = None\n",
    "    op.surrogate_factory = tm.SciKitGPSurrogate.Factory(gp_params=dict(\n",
    "        alpha = 1e-3, # larger => more noise. Default = 1e-10\n",
    "        kernel = 1.0 * gp.kernels.RBF(),\n",
    "        n_restarts_optimizer = 10,\n",
    "        normalize_y = True,\n",
    "        copy_X_train = True # make a copy of the training data\n",
    "    ), use_hint=use_hint)\n",
    "    op.acq_func_factory = tm.UCB.Factory(beta=3)\n",
    "    return op\n",
    "\n",
    "def compare(a, b, action, vertical):\n",
    "    rows, cols = (2, 1) if vertical else (1, 2)\n",
    "    size= (12, 5) if vertical else (12, 5)\n",
    "    fig, (a1, a2) = plt.subplots(rows, cols, figsize=size)\n",
    "    action(a, (fig, a1))\n",
    "    action(b, (fig, a2))\n",
    "    a1.set_title(a1.get_title() + ' - without hint')\n",
    "    a2.set_title(a2.get_title() + ' - with hint')\n",
    "    fig.subplots_adjust(hspace=0.5)"
   ]
  },
  {
   "cell_type": "code",
   "execution_count": null,
   "metadata": {},
   "outputs": [],
   "source": [
    "a = create_optimiser(False)\n",
    "ra = tp.PlottingRecorder()\n",
    "a.register_listener(ra)\n",
    "\n",
    "b = create_optimiser(True)\n",
    "rb = tp.PlottingRecorder()\n",
    "b.register_listener(rb)"
   ]
  },
  {
   "cell_type": "code",
   "execution_count": null,
   "metadata": {},
   "outputs": [],
   "source": [
    "np.random.seed(100)\n",
    "tg.OptimiserProgressBar(a)\n",
    "a.run(max_trials=20)\n",
    "\n",
    "np.random.seed(100)\n",
    "tg.OptimiserProgressBar(b)\n",
    "b.run(max_trials=20)"
   ]
  },
  {
   "cell_type": "code",
   "execution_count": null,
   "metadata": {},
   "outputs": [],
   "source": [
    "compare(a, b, lambda op, fig_ax:\n",
    "    tp.plot_error_over_time(op, true_best=best_y, fig_ax=fig_ax), vertical=True)"
   ]
  },
  {
   "cell_type": "code",
   "execution_count": null,
   "metadata": {},
   "outputs": [],
   "source": [
    "compare(ra, rb, lambda rec, fig_ax:\n",
    "    tp.plot_surrogate_likelihood_over_time(rec, fig_ax=fig_ax), vertical=True)"
   ]
  },
  {
   "cell_type": "code",
   "execution_count": null,
   "metadata": {},
   "outputs": [],
   "source": [
    "compare(ra, rb, lambda rec, fig_ax:\n",
    "    tp.plot_surrogate_hyper_params_1D(rec, param_index=1, axes=('trial_num', 'param', 'likelihood'), fig_ax=fig_ax), vertical=False)"
   ]
  },
  {
   "cell_type": "code",
   "execution_count": null,
   "metadata": {},
   "outputs": [],
   "source": [
    "compare(ra, rb, lambda rec, fig_ax:\n",
    "    tp.plot_surrogate_hyper_params_1D(rec, param_index=1, axes=('param', 'likelihood', 'trial_num'), fig_ax=fig_ax), vertical=False)"
   ]
  },
  {
   "cell_type": "code",
   "execution_count": null,
   "metadata": {},
   "outputs": [],
   "source": [
    "compare(ra, rb, lambda rec, fig_ax:\n",
    "    tp.plot_surrogate_hyper_params_1D(rec, param_index=1, axes=('trial_num', 'likelihood', 'param'), fig_ax=fig_ax), vertical=False)"
   ]
  },
  {
   "cell_type": "code",
   "execution_count": null,
   "metadata": {},
   "outputs": [],
   "source": [
    "compare(ra, rb, lambda rec, fig_ax:\n",
    "    tp.plot_surrogate_hyper_params_2D(rec, fig_ax=fig_ax), vertical=False)"
   ]
  },
  {
   "cell_type": "code",
   "execution_count": null,
   "metadata": {},
   "outputs": [],
   "source": [
    "tp.plot_trial_1D(rb, param='x', trial_num=None, true_objective=f)"
   ]
  }
 ],
 "metadata": {
  "kernelspec": {
   "display_name": "Python 3",
   "language": "python",
   "name": "python3"
  },
  "language_info": {
   "codemirror_mode": {
    "name": "ipython",
    "version": 3
   },
   "file_extension": ".py",
   "mimetype": "text/x-python",
   "name": "python",
   "nbconvert_exporter": "python",
   "pygments_lexer": "ipython3",
   "version": "3.5.2"
  },
  "varInspector": {
   "cols": {
    "lenName": 16,
    "lenType": 16,
    "lenVar": 40
   },
   "kernels_config": {
    "python": {
     "delete_cmd_postfix": "",
     "delete_cmd_prefix": "del ",
     "library": "var_list.py",
     "varRefreshCmd": "print(var_dic_list())"
    },
    "r": {
     "delete_cmd_postfix": ") ",
     "delete_cmd_prefix": "rm(",
     "library": "var_list.r",
     "varRefreshCmd": "cat(var_dic_list()) "
    }
   },
   "types_to_exclude": [
    "module",
    "function",
    "builtin_function_or_method",
    "instance",
    "_Feature"
   ],
   "window_display": false
  }
 },
 "nbformat": 4,
 "nbformat_minor": 2
}
