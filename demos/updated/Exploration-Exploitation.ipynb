{
 "cells": [
  {
   "cell_type": "markdown",
   "metadata": {},
   "source": [
    "# A Demonstration of Exploitation/Exploration Trade-off\n",
    "## Inspired by the following notebook:\n",
    "[this notebook](https://github.com/fmfn/BayesianOptimization/blob/master/examples/exploitation%20vs%20exploration.ipynb)"
   ]
  },
  {
   "cell_type": "code",
   "execution_count": null,
   "metadata": {},
   "outputs": [],
   "source": [
    "%load_ext autoreload\n",
    "%autoreload 2\n",
    "%matplotlib inline\n",
    "%config InlineBackend.figure_format = 'svg'"
   ]
  },
  {
   "cell_type": "code",
   "execution_count": null,
   "metadata": {},
   "outputs": [],
   "source": [
    "import numpy as np\n",
    "import sklearn.gaussian_process as gp\n",
    "import matplotlib.pyplot as plt\n",
    "import seaborn as sns; sns.set() # prettify matplotlib"
   ]
  },
  {
   "cell_type": "code",
   "execution_count": null,
   "metadata": {},
   "outputs": [],
   "source": [
    "# local modules\n",
    "import turbo as tb\n",
    "import turbo.modules as tm\n",
    "import turbo.gui as tg\n",
    "import turbo.plotting as tp"
   ]
  },
  {
   "cell_type": "code",
   "execution_count": null,
   "metadata": {},
   "outputs": [],
   "source": [
    "# Make deterministic\n",
    "np.random.seed(42)"
   ]
  },
  {
   "cell_type": "code",
   "execution_count": null,
   "metadata": {},
   "outputs": [],
   "source": [
    "# Effects every function in this notebook\n",
    "desired_extremum = 'min'\n",
    "surrogate = 'GPy'"
   ]
  },
  {
   "cell_type": "markdown",
   "metadata": {},
   "source": [
    "# Target Function"
   ]
  },
  {
   "cell_type": "code",
   "execution_count": null,
   "metadata": {},
   "outputs": [],
   "source": [
    "'''\n",
    "def f(x):\n",
    "    sf = 1 if desired_extremum == 'max' else -1\n",
    "    return sf * (np.exp(-(x - 2)**2) + np.exp(-(x - 6)**2/10) + 1/ (x**2 + 1))\n",
    "xmin, xmax = -2, 10\n",
    "xs = np.linspace(xmin, xmax, 500)\n",
    "ys = f(xs)\n",
    "'''\n",
    "\n",
    "#f = lambda x: 100 * np.sin(x**2/5) * np.cos(x*1.5) + 100\n",
    "f = lambda x: np.sin(x**2/5) * np.cos(x*1.5)\n",
    "xmin, xmax = 0, 12\n",
    "xs = np.linspace(xmin, xmax, num=200)\n",
    "ys = f(xs)\n",
    "\n",
    "def find_best():\n",
    "    ''' the optimisers are finding solutions better than the 500 divisions can find'''\n",
    "    best_ys = f(np.linspace(6, 6.3, 1000))\n",
    "    return np.max(best_ys) if desired_extremum == 'max' else np.min(best_ys)\n",
    "best_y = find_best()\n",
    "\n",
    "\n",
    "plt.figure(figsize=(12,4))\n",
    "plt.plot(xs, ys)\n",
    "plt.show()"
   ]
  },
  {
   "cell_type": "markdown",
   "metadata": {},
   "source": [
    "# Helper Functions\n",
    "These functions set up the optimiser to act like [this library](https://github.com/fmfn/BayesianOptimization/blob/master/examples/exploitation%20vs%20exploration.ipynb)"
   ]
  },
  {
   "cell_type": "code",
   "execution_count": null,
   "metadata": {},
   "outputs": [],
   "source": [
    "def run_optimiser(acquisition_function_factory):\n",
    "    '''\n",
    "    create an optimiser which is configured to be as close those used by the\n",
    "    Bayesian optimisation library this notebook is copying, with the acquisition\n",
    "    function and arguments for it passed as parameters\n",
    "    '''\n",
    "    bounds = [('x', xmin, xmax)]\n",
    "    op = tb.Optimiser(f, desired_extremum, bounds, pre_phase_trials=4, settings_preset='default')\n",
    "    if surrogate == 'GPy':\n",
    "        op.surrogate = tm.GPySurrogate()\n",
    "    elif surrogate == 'scikit':\n",
    "        op.surrogate = tm.SciKitGPSurrogate(model_params=dict(\n",
    "            alpha = 1e-5, # larger => more noise. Default = 1e-10\n",
    "            kernel = 1.0 * gp.kernels.RBF(),\n",
    "            n_restarts_optimizer = 10,\n",
    "            normalize_y = True\n",
    "        ))\n",
    "    else:\n",
    "        raise ValueError()\n",
    "    print('using surrogate: {}'.format(surrogate))\n",
    "    op.acq_func_factory = acquisition_function_factory\n",
    "\n",
    "    rec = tp.PlottingRecorder(op)\n",
    "    tg.OptimiserProgressBar(op, close_when_complete=True)\n",
    "    np.random.seed(42) # make each pre_phase the same\n",
    "    op.run(max_trials=20)\n",
    "    \n",
    "    tp.plot_trial_1D(rec, param='x', trial_num=-1, true_objective=f, fig=plt.figure(figsize=(12, 8)))\n",
    "    tp.plot_error(rec, true_best=best_y, fig_ax=plt.subplots(figsize=(12, 3)))"
   ]
  },
  {
   "cell_type": "markdown",
   "metadata": {},
   "source": [
    "# Upper Confidence Bound: Prefer Exploitation\n",
    "$\\beta=0.1$"
   ]
  },
  {
   "cell_type": "code",
   "execution_count": null,
   "metadata": {},
   "outputs": [],
   "source": [
    "run_optimiser(tm.UCB.Factory(beta=0.1))"
   ]
  },
  {
   "cell_type": "markdown",
   "metadata": {},
   "source": [
    "# Upper Confidence Bound: Prefer Exploration\n",
    "$\\beta=10.0$"
   ]
  },
  {
   "cell_type": "code",
   "execution_count": null,
   "metadata": {},
   "outputs": [],
   "source": [
    "run_optimiser(tm.UCB.Factory(beta=10))"
   ]
  },
  {
   "cell_type": "markdown",
   "metadata": {},
   "source": [
    "# Expected Value (Not Useful) (Upper Confidence Bound - Pure Exploitation)\n",
    "$$\\beta=0$$\n",
    "(only the mean/expected value $\\mu$ is taken into account, the uncertainty ($\\sigma$) is ignored)"
   ]
  },
  {
   "cell_type": "code",
   "execution_count": null,
   "metadata": {},
   "outputs": [],
   "source": [
    "run_optimiser(tm.UCB.Factory(beta=0))"
   ]
  },
  {
   "cell_type": "markdown",
   "metadata": {},
   "source": [
    "# Upper Confidence Bound - Pure Exploration (Not Useful)\n",
    "$$\\beta=\\infty$$ (only the uncertainty ($\\sigma$) is taken into account, $\\mu$ is ignored)"
   ]
  },
  {
   "cell_type": "code",
   "execution_count": null,
   "metadata": {},
   "outputs": [],
   "source": [
    "run_optimiser(tm.UCB.Factory(beta=float('inf')))"
   ]
  },
  {
   "cell_type": "markdown",
   "metadata": {},
   "source": [
    "# Expected Improvement: Prefer Exploitation\n",
    "$\\xi=0.0001$"
   ]
  },
  {
   "cell_type": "code",
   "execution_count": null,
   "metadata": {},
   "outputs": [],
   "source": [
    "run_optimiser(tm.EI.Factory(xi=1e-4))"
   ]
  },
  {
   "cell_type": "markdown",
   "metadata": {},
   "source": [
    "# Expected Improvement: Prefer Exploration\n",
    "$\\xi=0.1$"
   ]
  },
  {
   "cell_type": "code",
   "execution_count": null,
   "metadata": {},
   "outputs": [],
   "source": [
    "run_optimiser(tm.EI.Factory(xi=0.1))"
   ]
  },
  {
   "cell_type": "markdown",
   "metadata": {},
   "source": [
    "# Probability of Improvement: Prefer Exploitation\n",
    "$\\xi=0.0001$"
   ]
  },
  {
   "cell_type": "code",
   "execution_count": null,
   "metadata": {},
   "outputs": [],
   "source": [
    "run_optimiser(tm.PI.Factory(xi=1e-4))"
   ]
  },
  {
   "cell_type": "markdown",
   "metadata": {},
   "source": [
    "# Probability of Improvement: Prefer Exploration\n",
    "$\\xi=0.1$"
   ]
  },
  {
   "cell_type": "code",
   "execution_count": null,
   "metadata": {},
   "outputs": [],
   "source": [
    "run_optimiser(tm.PI.Factory(xi=0.1))"
   ]
  },
  {
   "cell_type": "code",
   "execution_count": null,
   "metadata": {},
   "outputs": [],
   "source": []
  }
 ],
 "metadata": {
  "kernelspec": {
   "display_name": "Python 3",
   "language": "python",
   "name": "python3"
  },
  "language_info": {
   "codemirror_mode": {
    "name": "ipython",
    "version": 3
   },
   "file_extension": ".py",
   "mimetype": "text/x-python",
   "name": "python",
   "nbconvert_exporter": "python",
   "pygments_lexer": "ipython3",
   "version": "3.6.3"
  },
  "varInspector": {
   "cols": {
    "lenName": 16,
    "lenType": 16,
    "lenVar": 40
   },
   "kernels_config": {
    "python": {
     "delete_cmd_postfix": "",
     "delete_cmd_prefix": "del ",
     "library": "var_list.py",
     "varRefreshCmd": "print(var_dic_list())"
    },
    "r": {
     "delete_cmd_postfix": ") ",
     "delete_cmd_prefix": "rm(",
     "library": "var_list.r",
     "varRefreshCmd": "cat(var_dic_list()) "
    }
   },
   "types_to_exclude": [
    "module",
    "function",
    "builtin_function_or_method",
    "instance",
    "_Feature"
   ],
   "window_display": false
  }
 },
 "nbformat": 4,
 "nbformat_minor": 2
}
