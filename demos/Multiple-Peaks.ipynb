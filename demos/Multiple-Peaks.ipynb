{
 "cells": [
  {
   "cell_type": "markdown",
   "metadata": {},
   "source": [
    "# Multiple Peaks"
   ]
  },
  {
   "cell_type": "code",
   "execution_count": null,
   "metadata": {},
   "outputs": [],
   "source": [
    "%load_ext autoreload\n",
    "%autoreload 2\n",
    "%matplotlib inline"
   ]
  },
  {
   "cell_type": "code",
   "execution_count": null,
   "metadata": {},
   "outputs": [],
   "source": [
    "import numpy as np\n",
    "import sklearn.gaussian_process as sk_gp\n",
    "import GPy\n",
    "import matplotlib.pyplot as plt\n",
    "import seaborn as sns; sns.set() # prettify matplotlib"
   ]
  },
  {
   "cell_type": "code",
   "execution_count": null,
   "metadata": {},
   "outputs": [],
   "source": [
    "# local modules\n",
    "import turbo as tb\n",
    "import turbo.modules as tm\n",
    "import turbo.plotting as tp\n",
    "import turbo.gui.jupyter as tg"
   ]
  },
  {
   "cell_type": "code",
   "execution_count": null,
   "metadata": {},
   "outputs": [],
   "source": [
    "# make deterministic\n",
    "np.random.seed(42)"
   ]
  },
  {
   "cell_type": "code",
   "execution_count": null,
   "metadata": {},
   "outputs": [],
   "source": [
    "def RBF(x, c, beta):\n",
    "    return np.exp(-beta * (x-c)**2)\n",
    "f = lambda x: 2 * RBF(x, 5, 1e-3) + 1 * RBF(x, -3, 0.1) + 2 * RBF(x, 10, 10)\n",
    "\n",
    "xmin, xmax = -10, 20\n",
    "xs = np.linspace(xmin, xmax, num=1000)\n",
    "\n",
    "ys = f(xs)\n",
    "best_y = np.max(ys)\n",
    "best_x = xs[np.argmin(ys)]"
   ]
  },
  {
   "cell_type": "code",
   "execution_count": null,
   "metadata": {},
   "outputs": [],
   "source": [
    "plt.figure(figsize=(16,6))\n",
    "plt.plot(xs, ys)\n",
    "plt.show()"
   ]
  },
  {
   "cell_type": "code",
   "execution_count": null,
   "metadata": {},
   "outputs": [],
   "source": [
    "op = tb.Optimiser(f, 'max', [('x', xmin, xmax)], pre_phase_trials=5, settings_preset='default')\n",
    "\n",
    "#op.acquisition = tm.UCB(beta=lambda trial_num: 5*np.log(trial_num-2)-4)\n",
    "#tp.plot_acquisition_parameter_function(op.acquisition.beta, 5, 30)\n",
    "\n",
    "op.surrogate = tm.SciKitGPSurrogate(model_params=dict(\n",
    "    kernel = 1.0 * sk_gp.kernels.RBF(length_scale_bounds=(1e-5, 1)) + sk_gp.kernels.WhiteKernel(),\n",
    "), training_iterations=4)\n",
    "rec = tb.Recorder(op)"
   ]
  },
  {
   "cell_type": "code",
   "execution_count": null,
   "metadata": {},
   "outputs": [],
   "source": [
    "tg.OptimiserProgressBar(op)\n",
    "op.run(max_trials=30)\n"
   ]
  },
  {
   "cell_type": "code",
   "execution_count": null,
   "metadata": {},
   "outputs": [],
   "source": [
    "tp.plot_error(rec, true_best=best_y);\n",
    "tp.plot_overview(rec)"
   ]
  },
  {
   "cell_type": "code",
   "execution_count": null,
   "metadata": {},
   "outputs": [],
   "source": [
    "tp.interactive_plot_trial_1D(rec, true_objective=f)"
   ]
  },
  {
   "cell_type": "code",
   "execution_count": null,
   "metadata": {},
   "outputs": [],
   "source": []
  }
 ],
 "metadata": {
  "kernelspec": {
   "display_name": "Python 3",
   "language": "python",
   "name": "python3"
  },
  "language_info": {
   "codemirror_mode": {
    "name": "ipython",
    "version": 3
   },
   "file_extension": ".py",
   "mimetype": "text/x-python",
   "name": "python",
   "nbconvert_exporter": "python",
   "pygments_lexer": "ipython3",
   "version": "3.6.3"
  },
  "varInspector": {
   "cols": {
    "lenName": 16,
    "lenType": 16,
    "lenVar": 40
   },
   "kernels_config": {
    "python": {
     "delete_cmd_postfix": "",
     "delete_cmd_prefix": "del ",
     "library": "var_list.py",
     "varRefreshCmd": "print(var_dic_list())"
    },
    "r": {
     "delete_cmd_postfix": ") ",
     "delete_cmd_prefix": "rm(",
     "library": "var_list.r",
     "varRefreshCmd": "cat(var_dic_list()) "
    }
   },
   "types_to_exclude": [
    "module",
    "function",
    "builtin_function_or_method",
    "instance",
    "_Feature"
   ],
   "window_display": false
  }
 },
 "nbformat": 4,
 "nbformat_minor": 2
}
