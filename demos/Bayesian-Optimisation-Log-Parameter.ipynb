{
 "cells": [
  {
   "cell_type": "markdown",
   "metadata": {},
   "source": [
    "# Logarithmic Parameters\n",
    "This notebook explores Bayesian optimisation of a function who's parameter is best thought of logarithmically (the order of magnitude is more important than the value itself)\n",
    "\n",
    "To accommodate this, the surrogate function is trained on the exponents of the values rather than the values themselves\n",
    "\n",
    "note: for this particular function, a $\\nu=2.5$ works better for the Matern kernel than $\\nu=1.5$."
   ]
  },
  {
   "cell_type": "code",
   "execution_count": null,
   "metadata": {},
   "outputs": [],
   "source": [
    "%load_ext autoreload\n",
    "%autoreload 2"
   ]
  },
  {
   "cell_type": "code",
   "execution_count": null,
   "metadata": {},
   "outputs": [],
   "source": [
    "from IPython.core.debugger import Tracer # debugging\n",
    "from IPython.display import clear_output\n",
    "import time\n",
    "\n",
    "%matplotlib inline\n",
    "import matplotlib.pyplot as plt\n",
    "import seaborn as sns # prettify matplotlib\n",
    "\n",
    "import numpy as np\n",
    "import sklearn.gaussian_process as gp"
   ]
  },
  {
   "cell_type": "code",
   "execution_count": null,
   "metadata": {},
   "outputs": [],
   "source": [
    "# local modules\n",
    "import sys; sys.path.append('../src/')\n",
    "import optimisation as op\n",
    "import optimisation_gui as op_gui"
   ]
  },
  {
   "cell_type": "code",
   "execution_count": null,
   "metadata": {},
   "outputs": [],
   "source": [
    "# make deterministic\n",
    "np.random.seed(101)"
   ]
  },
  {
   "cell_type": "markdown",
   "metadata": {},
   "source": [
    "Function to optimize:"
   ]
  },
  {
   "cell_type": "code",
   "execution_count": null,
   "metadata": {},
   "outputs": [],
   "source": [
    "f = lambda x: np.cos(2*(20-x)**2)/x - 2*np.log(x)\n",
    "x_min = 0.005\n",
    "x_max = 5\n",
    "xs = op.logspace(x_min, x_max, num_per_mag=200)\n",
    "#xs = np.linspace(x_min, x_max, num=601)\n",
    "print(len(xs))\n",
    "ys = f(xs)\n",
    "best_y = np.max(ys)"
   ]
  },
  {
   "cell_type": "code",
   "execution_count": null,
   "metadata": {},
   "outputs": [],
   "source": [
    "plt.figure(figsize=(16,4))\n",
    "plt.plot(xs, ys, 'g-')\n",
    "plt.margins(0.1, 0.1)\n",
    "plt.title('Linear Scale')\n",
    "plt.xlabel('x')\n",
    "plt.ylabel('cost')\n",
    "plt.show()"
   ]
  },
  {
   "cell_type": "code",
   "execution_count": null,
   "metadata": {},
   "outputs": [],
   "source": [
    "plt.figure(figsize=(16,4))\n",
    "plt.plot(xs, ys, 'g-')\n",
    "plt.margins(0.1, 0.1)\n",
    "plt.title('Logarithmic Scale')\n",
    "plt.xlabel('x')\n",
    "plt.axes().set_xscale('log')\n",
    "plt.ylabel('cost')\n",
    "plt.show()"
   ]
  },
  {
   "cell_type": "code",
   "execution_count": null,
   "metadata": {},
   "outputs": [],
   "source": [
    "ranges = {\n",
    "    'x': xs,\n",
    "    #'y': [5],\n",
    "    #'z': np.linspace(0, 10, num=10)\n",
    "}\n",
    "gp_params = dict(\n",
    "    alpha = 1e-10, # larger => more noise. Default = 1e-10\n",
    "    kernel = 1.0 * gp.kernels.Matern(nu=2.5) + gp.kernels.WhiteKernel(),\n",
    "    #kernel = 1.0 * gp.kernels.RBF(length_scale=1),\n",
    "    n_restarts_optimizer = 10,\n",
    "    # make the mean 0 (theoretically a bad thing, see docs, but can help)\n",
    "    normalize_y = False,\n",
    "    copy_X_train = True # make a copy of the training data\n",
    ")"
   ]
  },
  {
   "cell_type": "code",
   "execution_count": null,
   "metadata": {},
   "outputs": [],
   "source": [
    "class MyEvaluator(op.Evaluator):\n",
    "    def test_config(self, config):\n",
    "        return f(config.x)"
   ]
  },
  {
   "cell_type": "code",
   "execution_count": null,
   "metadata": {},
   "outputs": [],
   "source": [
    "optimiser = op.BayesianOptimisationOptimiser(ranges,\n",
    "                                             maximise_cost=True,\n",
    "                                             acquisition_function='UCB',\n",
    "                                             acquisition_function_params=dict(kappa=2),\n",
    "                                             gp_params=gp_params,\n",
    "                                             pre_samples=3,\n",
    "                                             ac_max_params=None,\n",
    "                                             close_tolerance=0.001)\n",
    "optimiser.step_log_keep = 100\n",
    "evaluator = MyEvaluator()"
   ]
  },
  {
   "cell_type": "code",
   "execution_count": null,
   "metadata": {},
   "outputs": [],
   "source": [
    "optimiser.run_sequential(evaluator, max_jobs=11)"
   ]
  },
  {
   "cell_type": "code",
   "execution_count": null,
   "metadata": {},
   "outputs": [],
   "source": [
    "optimiser.plot_cost_over_time(true_best=best_y);"
   ]
  },
  {
   "cell_type": "code",
   "execution_count": null,
   "metadata": {},
   "outputs": [],
   "source": [
    "def plot(n, step):\n",
    "    optimiser.plot_step_slice('x', n, true_cost=f);\n",
    "op_gui.step_log_slider(optimiser, plot, pre_compute=False);"
   ]
  },
  {
   "cell_type": "code",
   "execution_count": null,
   "metadata": {},
   "outputs": [],
   "source": []
  }
 ],
 "metadata": {
  "kernelspec": {
   "display_name": "Python 3",
   "language": "python",
   "name": "python3"
  },
  "language_info": {
   "codemirror_mode": {
    "name": "ipython",
    "version": 3
   },
   "file_extension": ".py",
   "mimetype": "text/x-python",
   "name": "python",
   "nbconvert_exporter": "python",
   "pygments_lexer": "ipython3",
   "version": "3.5.2"
  },
  "varInspector": {
   "cols": {
    "lenName": 16,
    "lenType": 16,
    "lenVar": 40
   },
   "kernels_config": {
    "python": {
     "delete_cmd_postfix": "",
     "delete_cmd_prefix": "del ",
     "library": "var_list.py",
     "varRefreshCmd": "print(var_dic_list())"
    },
    "r": {
     "delete_cmd_postfix": ") ",
     "delete_cmd_prefix": "rm(",
     "library": "var_list.r",
     "varRefreshCmd": "cat(var_dic_list()) "
    }
   },
   "types_to_exclude": [
    "module",
    "function",
    "builtin_function_or_method",
    "instance",
    "_Feature"
   ],
   "window_display": false
  }
 },
 "nbformat": 4,
 "nbformat_minor": 2
}
