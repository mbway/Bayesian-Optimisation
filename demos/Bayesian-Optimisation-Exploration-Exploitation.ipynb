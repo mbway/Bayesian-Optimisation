{
 "cells": [
  {
   "cell_type": "markdown",
   "metadata": {},
   "source": [
    "# A Demonstration of Exploitation/Exploration Trade-off\n",
    "## Inspired by the following notebook:\n",
    "[this notebook](https://github.com/fmfn/BayesianOptimization/blob/master/examples/exploitation%20vs%20exploration.ipynb)"
   ]
  },
  {
   "cell_type": "code",
   "execution_count": null,
   "metadata": {},
   "outputs": [],
   "source": [
    "%load_ext autoreload\n",
    "%autoreload 2\n",
    "%matplotlib inline"
   ]
  },
  {
   "cell_type": "code",
   "execution_count": null,
   "metadata": {},
   "outputs": [],
   "source": [
    "import numpy as np\n",
    "import sklearn.gaussian_process as gp\n",
    "import matplotlib.pyplot as plt\n",
    "import seaborn as sns # prettify matplotlib"
   ]
  },
  {
   "cell_type": "code",
   "execution_count": null,
   "metadata": {},
   "outputs": [],
   "source": [
    "# local modules\n",
    "import sys; sys.path.append('..')\n",
    "import optimisation as op"
   ]
  },
  {
   "cell_type": "code",
   "execution_count": null,
   "metadata": {},
   "outputs": [],
   "source": [
    "# Make deterministic\n",
    "np.random.seed(42)"
   ]
  },
  {
   "cell_type": "code",
   "execution_count": null,
   "metadata": {},
   "outputs": [],
   "source": [
    "# Effects every function in this notebook\n",
    "maximise = False"
   ]
  },
  {
   "cell_type": "markdown",
   "metadata": {},
   "source": [
    "# Target Function"
   ]
  },
  {
   "cell_type": "code",
   "execution_count": null,
   "metadata": {},
   "outputs": [],
   "source": [
    "sf = 1 if maximise else -1\n",
    "f = lambda x: sf * (np.exp(-(x - 2)**2) + np.exp(-(x - 6)**2/10) + 1/ (x**2 + 1))\n",
    "xs = np.linspace(-2, 10, 1000)\n",
    "ys = f(xs)\n",
    "best_y = np.max(ys) if maximise else np.min(ys)\n",
    "\n",
    "class TestEvaluator(op.Evaluator):\n",
    "    def test_config(self, config):\n",
    "        return f(config.x)\n",
    "evaluator = TestEvaluator()\n",
    "\n",
    "plt.figure(figsize=(16,6))\n",
    "plt.plot(xs, ys)\n",
    "plt.show()"
   ]
  },
  {
   "cell_type": "markdown",
   "metadata": {},
   "source": [
    "# Helper Functions\n",
    "These functions set up the optimiser to act like [this library](https://github.com/fmfn/BayesianOptimization/blob/master/examples/exploitation%20vs%20exploration.ipynb)"
   ]
  },
  {
   "cell_type": "code",
   "execution_count": null,
   "metadata": {},
   "outputs": [],
   "source": [
    "def create_optimiser(ac_func, ac_args):\n",
    "    '''\n",
    "    create an optimiser which is configured to be as close those used by the\n",
    "    Bayesian optimisation library this notebook is copying, with the acquisition\n",
    "    function and arguments for it passed as parameters\n",
    "    '''\n",
    "    #ranges = {'x' : xs, 'y' : [1,2,3]}\n",
    "    ranges = {'x' : xs}\n",
    "    strat = op.AcquisitionStrategy(\n",
    "        pre_phase_steps = 2,\n",
    "        acquisition_function = (ac_func, ac_args),\n",
    "        parallel_strategy = 'KB'\n",
    "    )\n",
    "    gp_params = {'alpha': 1e-5, 'kernel':1.0*gp.kernels.Matern(nu=2.5), 'n_restarts_optimizer':2}\n",
    "    # these settings are very over-kill, the other library uses 250 restarts which is far too many\n",
    "    maximiser_args = {'num_random' : 1e5, 'num_grad_restarts' : 10, 'take_best_random' : 3}\n",
    "    \n",
    "    return op.BayesianOptimisationOptimiser(\n",
    "        ranges, maximise_cost=maximise,\n",
    "        acquisition_strategy=strat,\n",
    "        gp_params=gp_params,\n",
    "        maximisation_args=maximiser_args,\n",
    "        close_tolerance=1e-15)\n",
    "\n",
    "def step_slider(optimiser):\n",
    "    def plot(n, step):\n",
    "        optimiser.plot_step_1D('x', n, true_cost=f);\n",
    "    op.gui.step_log_slider(optimiser, plot, pre_compute=False)\n",
    "\n",
    "def run_optimiser(ac_func, ac_args):\n",
    "    ''' create an optimiser, run it and display the results '''\n",
    "    bo = create_optimiser(ac_func, ac_args)\n",
    "    op.gui.optimiser_progress_bar(bo, close_when_complete=True)\n",
    "    bo.run_sequential(evaluator, max_jobs=25)\n",
    "    step_slider(bo)\n",
    "    return bo"
   ]
  },
  {
   "cell_type": "markdown",
   "metadata": {},
   "source": [
    "# Upper Confidence Bound: Prefer Exploitation\n",
    "$\\kappa=1.0$"
   ]
  },
  {
   "cell_type": "code",
   "execution_count": null,
   "metadata": {},
   "outputs": [],
   "source": [
    "bo = run_optimiser('UCB', {'kappa' : 1})"
   ]
  },
  {
   "cell_type": "code",
   "execution_count": null,
   "metadata": {},
   "outputs": [],
   "source": [
    "bo.plot_cost_over_time(true_best=best_y).set_size_inches(16, 6)"
   ]
  },
  {
   "cell_type": "markdown",
   "metadata": {},
   "source": [
    "# Upper Confidence Bound: Prefer Exploration\n",
    "$\\kappa=10.0$"
   ]
  },
  {
   "cell_type": "code",
   "execution_count": null,
   "metadata": {},
   "outputs": [],
   "source": [
    "bo = run_optimiser('UCB', {'kappa' : 10})"
   ]
  },
  {
   "cell_type": "code",
   "execution_count": null,
   "metadata": {},
   "outputs": [],
   "source": [
    "bo.plot_cost_over_time(true_best=best_y).set_size_inches(16, 6)"
   ]
  },
  {
   "cell_type": "markdown",
   "metadata": {},
   "source": [
    "# Expected Value (Not Useful) (Upper Confidence Bound - Pure Exploitation)\n",
    "$$\\kappa=0$$\n",
    "(only the mean/expected value $\\mu$ is taken into account, the uncertainty ($\\sigma$) is ignored)"
   ]
  },
  {
   "cell_type": "code",
   "execution_count": null,
   "metadata": {},
   "outputs": [],
   "source": [
    "bo = run_optimiser('UCB', {'kappa' : 0})"
   ]
  },
  {
   "cell_type": "code",
   "execution_count": null,
   "metadata": {},
   "outputs": [],
   "source": [
    "bo.plot_cost_over_time(true_best=best_y).set_size_inches(16, 6)"
   ]
  },
  {
   "cell_type": "markdown",
   "metadata": {},
   "source": [
    "# Upper Confidence Bound - Pure Exploration (Not Useful)\n",
    "$$\\kappa=\\infty$$ (only the uncertainty ($\\sigma$) is taken into account, $\\mu$ is ignored)"
   ]
  },
  {
   "cell_type": "code",
   "execution_count": null,
   "metadata": {},
   "outputs": [],
   "source": [
    "bo = run_optimiser('UCB', {'kappa' : float('inf')})"
   ]
  },
  {
   "cell_type": "code",
   "execution_count": null,
   "metadata": {},
   "outputs": [],
   "source": [
    "bo.plot_cost_over_time(true_best=best_y).set_size_inches(16, 6)"
   ]
  },
  {
   "cell_type": "markdown",
   "metadata": {},
   "source": [
    "# Expected Improvement: Prefer Exploitation\n",
    "$\\xi=0.0001$"
   ]
  },
  {
   "cell_type": "code",
   "execution_count": null,
   "metadata": {},
   "outputs": [],
   "source": [
    "bo = run_optimiser('EI', {'xi' : 1e-4})"
   ]
  },
  {
   "cell_type": "code",
   "execution_count": null,
   "metadata": {},
   "outputs": [],
   "source": [
    "bo.plot_cost_over_time(true_best=best_y).set_size_inches(16, 6)"
   ]
  },
  {
   "cell_type": "markdown",
   "metadata": {},
   "source": [
    "# Expected Improvement: Prefer Exploration\n",
    "$\\xi=0.1$"
   ]
  },
  {
   "cell_type": "code",
   "execution_count": null,
   "metadata": {},
   "outputs": [],
   "source": [
    "bo = run_optimiser('EI', {'xi' : 0.1})"
   ]
  },
  {
   "cell_type": "code",
   "execution_count": null,
   "metadata": {},
   "outputs": [],
   "source": [
    "bo.plot_cost_over_time(true_best=best_y).set_size_inches(16, 6)"
   ]
  },
  {
   "cell_type": "markdown",
   "metadata": {},
   "source": [
    "# Probability of Improvement: Prefer Exploitation\n",
    "$\\xi=0.0001$"
   ]
  },
  {
   "cell_type": "code",
   "execution_count": null,
   "metadata": {},
   "outputs": [],
   "source": [
    "bo = run_optimiser('PI', {'xi' : 1e-4})"
   ]
  },
  {
   "cell_type": "code",
   "execution_count": null,
   "metadata": {},
   "outputs": [],
   "source": [
    "bo.plot_cost_over_time(true_best=best_y).set_size_inches(16, 6)"
   ]
  },
  {
   "cell_type": "markdown",
   "metadata": {},
   "source": [
    "# Probability of Improvement: Prefer Exploration\n",
    "$\\xi=0.1$"
   ]
  },
  {
   "cell_type": "code",
   "execution_count": null,
   "metadata": {},
   "outputs": [],
   "source": [
    "bo = run_optimiser('PI', {'xi' : 0.1})"
   ]
  },
  {
   "cell_type": "code",
   "execution_count": null,
   "metadata": {},
   "outputs": [],
   "source": [
    "bo.plot_cost_over_time(true_best=best_y).set_size_inches(16, 6)"
   ]
  }
 ],
 "metadata": {
  "kernelspec": {
   "display_name": "Python 3",
   "language": "python",
   "name": "python3"
  },
  "language_info": {
   "codemirror_mode": {
    "name": "ipython",
    "version": 3
   },
   "file_extension": ".py",
   "mimetype": "text/x-python",
   "name": "python",
   "nbconvert_exporter": "python",
   "pygments_lexer": "ipython3",
   "version": "3.5.2"
  },
  "varInspector": {
   "cols": {
    "lenName": 16,
    "lenType": 16,
    "lenVar": 40
   },
   "kernels_config": {
    "python": {
     "delete_cmd_postfix": "",
     "delete_cmd_prefix": "del ",
     "library": "var_list.py",
     "varRefreshCmd": "print(var_dic_list())"
    },
    "r": {
     "delete_cmd_postfix": ") ",
     "delete_cmd_prefix": "rm(",
     "library": "var_list.r",
     "varRefreshCmd": "cat(var_dic_list()) "
    }
   },
   "types_to_exclude": [
    "module",
    "function",
    "builtin_function_or_method",
    "instance",
    "_Feature"
   ],
   "window_display": false
  }
 },
 "nbformat": 4,
 "nbformat_minor": 2
}
