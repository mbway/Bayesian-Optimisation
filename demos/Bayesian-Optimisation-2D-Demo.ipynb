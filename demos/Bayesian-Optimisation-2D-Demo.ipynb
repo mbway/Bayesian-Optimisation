{
 "cells": [
  {
   "cell_type": "markdown",
   "metadata": {},
   "source": [
    "# An Example 2D optimisation\n",
    "## Inspired by the following notebook:\n",
    "[this blog post](https://thuijskens.github.io/2016/12/29/bayesian-optimisation/) referring to \n",
    "[this notebook](https://github.com/thuijskens/bayesian-optimization/blob/master/ipython-notebooks/svm-optimization.ipynb)\n",
    "\n",
    "target function and inspiration for plotting from [here](https://github.com/fmfn/BayesianOptimization/issues/18)"
   ]
  },
  {
   "cell_type": "code",
   "execution_count": null,
   "metadata": {},
   "outputs": [],
   "source": [
    "%load_ext autoreload\n",
    "%autoreload 2\n",
    "%matplotlib inline"
   ]
  },
  {
   "cell_type": "code",
   "execution_count": null,
   "metadata": {},
   "outputs": [],
   "source": [
    "import numpy as np\n",
    "import sklearn.gaussian_process as gp\n",
    "import matplotlib.pyplot as plt\n",
    "import seaborn as sns # prettify matplotlib"
   ]
  },
  {
   "cell_type": "code",
   "execution_count": null,
   "metadata": {},
   "outputs": [],
   "source": [
    "# local modules\n",
    "import sys; sys.path.append('../src/')\n",
    "import plot3D\n",
    "import optimisation as op\n",
    "import optimisation_gui as op_gui\n",
    "import synthetic_data"
   ]
  },
  {
   "cell_type": "code",
   "execution_count": null,
   "metadata": {},
   "outputs": [],
   "source": [
    "# Make deterministic\n",
    "np.random.seed(42)"
   ]
  },
  {
   "cell_type": "markdown",
   "metadata": {},
   "source": [
    "# Target Function"
   ]
  },
  {
   "cell_type": "code",
   "execution_count": null,
   "metadata": {},
   "outputs": [],
   "source": [
    "x = y = np.linspace(0, 6, 300)\n",
    "X, Y = np.meshgrid(x, y)\n",
    "noise = synthetic_data.Noise2D(x, y, 0.1)\n",
    "\n",
    "# vectorize needed for accessing noise\n",
    "#@np.vectorize\n",
    "def target(x, y):\n",
    "    ''' from https://github.com/fmfn/BayesianOptimization/issues/18 '''\n",
    "    a = np.exp(-( (x - 2)**2/0.7 + (y - 4)**2/1.2) + (x - 2)*(y - 4)/1.6 )\n",
    "    b = np.exp(-( (x - 4)**2/3 + (y - 2)**2/2.) )\n",
    "    c = np.exp(-( (x - 4)**2/0.5 + (y - 4)**2/0.5) + (x - 4)*(y - 4)/0.5 )\n",
    "    d = np.sin(3.1415 * x)\n",
    "    e = np.exp(-( (x - 5.5)**2/0.5 + (y - 5.5)**2/.5) )\n",
    "    return 2*a + b - c + 0.17 * d + 2*e + noise.get(x, y)\n",
    "\n",
    "Z = target(X, Y)\n",
    "best_z = np.max(Z) # ~2.06\n",
    "\n",
    "class TestEvaluator(op.Evaluator):\n",
    "    def test_config(self, config):\n",
    "        return target(config.x, config.y)\n",
    "evaluator = TestEvaluator()\n",
    "\n",
    "plot3D.surface3D(X, Y, Z)"
   ]
  },
  {
   "cell_type": "markdown",
   "metadata": {},
   "source": [
    "# Helper Functions"
   ]
  },
  {
   "cell_type": "code",
   "execution_count": null,
   "metadata": {},
   "outputs": [],
   "source": [
    "gp_params = {\n",
    "    'alpha': 1e-10, # default noise level, deal with noise with the white kernel\n",
    "    'kernel': 1.0 * gp.kernels.Matern(nu=1.5) + gp.kernels.WhiteKernel(),\n",
    "    'n_restarts_optimizer': 4\n",
    "}\n",
    "ac_params = {\n",
    "    'kappa' : 5\n",
    "}\n",
    "ranges = {'x' : x, 'y' : y}\n",
    "\n",
    "bo = op.BayesianOptimisationOptimiser(\n",
    "    ranges, maximise_cost=True,\n",
    "    acquisition_function='UCB', acquisition_function_params=ac_params,\n",
    "    gp_params=gp_params, pre_samples=4, ac_max_params=None, close_tolerance=1e-4)"
   ]
  },
  {
   "cell_type": "code",
   "execution_count": null,
   "metadata": {},
   "outputs": [],
   "source": [
    "bo.run_sequential(evaluator, max_jobs=60)\n",
    "\n",
    "# or run interactively to see the log as it runs\n",
    "#task = lambda: bo.run_sequential(evaluator, max_jobs=60)\n",
    "#op_gui.interactive(bo, task)"
   ]
  },
  {
   "cell_type": "code",
   "execution_count": null,
   "metadata": {},
   "outputs": [],
   "source": [
    "bo.plot_cost_over_time(true_best=best_z);"
   ]
  },
  {
   "cell_type": "code",
   "execution_count": null,
   "metadata": {},
   "outputs": [],
   "source": [
    "def plot(n, step):\n",
    "    bo.plot_step_slice('x', n, gp_through_all=True)\n",
    "op_gui.step_log_slider(bo, plot);"
   ]
  },
  {
   "cell_type": "code",
   "execution_count": null,
   "metadata": {},
   "outputs": [],
   "source": [
    "def plot2(n, step):\n",
    "    bo.plot_step_slice('y', n, gp_through_all=True)\n",
    "op_gui.step_log_slider(bo, plot2);"
   ]
  },
  {
   "cell_type": "code",
   "execution_count": null,
   "metadata": {},
   "outputs": [],
   "source": [
    "num_random = bo.num_randomly_chosen()\n",
    "num_bayes = len(bo.samples) - num_random\n",
    "print('number of random samples: {}'.format(num_random))\n",
    "print('number of bayes samples: {}'.format(num_bayes))"
   ]
  },
  {
   "cell_type": "code",
   "execution_count": null,
   "metadata": {},
   "outputs": [],
   "source": [
    "def plot2D(n, step):\n",
    "    bo.plot_step_2D('x', 'y', n, true_cost=Z)\n",
    "op_gui.step_log_slider(bo, plot2D, pre_compute=False);"
   ]
  },
  {
   "cell_type": "code",
   "execution_count": null,
   "metadata": {},
   "outputs": [],
   "source": [
    "bo.scatter_plot('x', 'y')"
   ]
  },
  {
   "cell_type": "markdown",
   "metadata": {},
   "source": [
    "# Try optimising the same function with random search"
   ]
  },
  {
   "cell_type": "code",
   "execution_count": null,
   "metadata": {},
   "outputs": [],
   "source": [
    "ra = op.RandomSearchOptimiser(ranges, maximise_cost=True)\n",
    "ra.run_sequential(evaluator, max_jobs=1000)"
   ]
  },
  {
   "cell_type": "code",
   "execution_count": null,
   "metadata": {},
   "outputs": [],
   "source": [
    "ra.plot_cost_over_time(true_best=best_z);"
   ]
  },
  {
   "cell_type": "code",
   "execution_count": null,
   "metadata": {},
   "outputs": [],
   "source": [
    "ra.scatter_plot('x', 'y')"
   ]
  },
  {
   "cell_type": "code",
   "execution_count": null,
   "metadata": {},
   "outputs": [],
   "source": []
  }
 ],
 "metadata": {
  "kernelspec": {
   "display_name": "Python 3",
   "language": "python",
   "name": "python3"
  },
  "language_info": {
   "codemirror_mode": {
    "name": "ipython",
    "version": 3
   },
   "file_extension": ".py",
   "mimetype": "text/x-python",
   "name": "python",
   "nbconvert_exporter": "python",
   "pygments_lexer": "ipython3",
   "version": "3.5.2"
  },
  "varInspector": {
   "cols": {
    "lenName": 16,
    "lenType": 16,
    "lenVar": 40
   },
   "kernels_config": {
    "python": {
     "delete_cmd_postfix": "",
     "delete_cmd_prefix": "del ",
     "library": "var_list.py",
     "varRefreshCmd": "print(var_dic_list())"
    },
    "r": {
     "delete_cmd_postfix": ") ",
     "delete_cmd_prefix": "rm(",
     "library": "var_list.r",
     "varRefreshCmd": "cat(var_dic_list()) "
    }
   },
   "types_to_exclude": [
    "module",
    "function",
    "builtin_function_or_method",
    "instance",
    "_Feature"
   ],
   "window_display": false
  }
 },
 "nbformat": 4,
 "nbformat_minor": 2
}
