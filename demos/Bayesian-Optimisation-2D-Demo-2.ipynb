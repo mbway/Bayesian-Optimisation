{
 "cells": [
  {
   "cell_type": "code",
   "execution_count": null,
   "metadata": {},
   "outputs": [],
   "source": [
    "%load_ext autoreload\n",
    "%autoreload 2"
   ]
  },
  {
   "cell_type": "code",
   "execution_count": null,
   "metadata": {},
   "outputs": [],
   "source": [
    "from IPython.core.debugger import Tracer # debugging\n",
    "from IPython.display import clear_output\n",
    "import ipywidgets as widgets\n",
    "import time\n",
    "\n",
    "%matplotlib inline\n",
    "import matplotlib.pyplot as plt\n",
    "import seaborn as sns # prettify matplotlib\n",
    "\n",
    "import numpy as np\n",
    "import sklearn.gaussian_process as gp"
   ]
  },
  {
   "cell_type": "code",
   "execution_count": null,
   "metadata": {},
   "outputs": [],
   "source": [
    "# local modules\n",
    "import sys; sys.path.append('..')\n",
    "import optimisation as op\n",
    "import optimisation.plot3D as plot3D\n",
    "from utils import synthetic_data"
   ]
  },
  {
   "cell_type": "code",
   "execution_count": null,
   "metadata": {},
   "outputs": [],
   "source": [
    "# make deterministic\n",
    "np.random.seed(42)"
   ]
  },
  {
   "cell_type": "markdown",
   "metadata": {},
   "source": [
    "Function to optimize:"
   ]
  },
  {
   "cell_type": "code",
   "execution_count": null,
   "metadata": {},
   "outputs": [],
   "source": [
    "x = np.linspace(-6, 6, 100)\n",
    "y = np.linspace(-5, 5, 100)\n",
    "noise = synthetic_data.Noise2D(x, y, 0.3, fixed=False)\n",
    "f = lambda x,y: 1.5 * (np.sin(0.5*x)**2 * np.cos(y) + 0.1*x + 0.2*y) + noise.get(x,y)\n",
    "X, Y = np.meshgrid(x, y)\n",
    "Z = f(X,Y)\n",
    "best_z = np.min(Z)"
   ]
  },
  {
   "cell_type": "code",
   "execution_count": null,
   "metadata": {},
   "outputs": [],
   "source": [
    "plot3D.surface3D(X,Y,Z)"
   ]
  },
  {
   "cell_type": "code",
   "execution_count": null,
   "metadata": {},
   "outputs": [],
   "source": [
    "ranges = {\n",
    "    'x': x,\n",
    "    'y': y,\n",
    "}\n",
    "# important lesson: having a very small close_tolerance but promoting exploration with large kappa gives\n",
    "# better results than a smaller kappa and larger close_tolerance (for this function at least)\n",
    "acquisition_strategy = op.AcquisitionStrategy(\n",
    "    pre_phase_steps = 4,\n",
    "    acquisition_function = ('UCB', {'kappa' : 5})\n",
    ")\n",
    "Surrogate = op.SciKitGPSurrogate.Custom(gp_params=dict(\n",
    "    alpha = 1e-10, # larger => more noise. Default = 1e-10\n",
    "    # using domain knowledge about the function: nu=2.5 assumes that the function is at least twice-differentiable\n",
    "    # restrict the noise bounds much more than the default to prevent the GP from explaining all variation as noise\n",
    "    kernel = 1.0 * gp.kernels.Matern(nu=2.5) + gp.kernels.WhiteKernel(noise_level_bounds=(1e-05, 0.15)),\n",
    "    n_restarts_optimizer = 10,\n",
    "    # make the mean 0 (theoretically a bad thing, see docs, but can help)\n",
    "    #normalize_y = True,\n",
    "    copy_X_train = True # whether to make a copy of the training data (in-case it is modified)\n",
    "))\n",
    "close_tolerance = 1e-8\n",
    "\n",
    "if False:\n",
    "    print('SABOTAGED PARAMETERS: WON\\'T DO WELL\\n' * 5)\n",
    "    # sabotage the parameters to show a possible bad configuration that doesn't\n",
    "    # work well with this problem (but may with others)\n",
    "    gp_params['kernel'] = 1.0 * gp.kernels.RBF() + gp.kernels.WhiteKernel()\n",
    "    acquisition_strategy.acquisition_function[1]['kappa'] = 5\n",
    "    close_tolerance = 1e-3"
   ]
  },
  {
   "cell_type": "code",
   "execution_count": null,
   "metadata": {},
   "outputs": [],
   "source": [
    "class MyEvaluator(op.Evaluator):\n",
    "    def test_config(self, config):\n",
    "        return f(config.x, config.y)"
   ]
  },
  {
   "cell_type": "code",
   "execution_count": null,
   "metadata": {},
   "outputs": [],
   "source": [
    "optimiser = op.BayesianOptimisationOptimiser(ranges,\n",
    "                                             maximise_cost=False,\n",
    "                                             acquisition_strategy=acquisition_strategy,\n",
    "                                             Surrogate=Surrogate,\n",
    "                                             maximisation_args=None,\n",
    "                                             close_tolerance=close_tolerance)\n",
    "optimiser.step_log_keep = 100\n",
    "evaluator = MyEvaluator()"
   ]
  },
  {
   "cell_type": "code",
   "execution_count": null,
   "metadata": {},
   "outputs": [],
   "source": [
    "op.gui.optimiser_progress_bar(optimiser)\n",
    "optimiser.run_sequential(evaluator, max_jobs=80)\n",
    "\n",
    "# or run interactively to see the log output\n",
    "#task = lambda: optimiser.run_sequential(evaluator, max_jobs=80)\n",
    "#op_gui.interactive(optimiser, task)"
   ]
  },
  {
   "cell_type": "code",
   "execution_count": null,
   "metadata": {},
   "outputs": [],
   "source": [
    "optimiser.plot_cost_over_time(true_best=best_z);"
   ]
  },
  {
   "cell_type": "code",
   "execution_count": null,
   "metadata": {},
   "outputs": [],
   "source": [
    "def plot2D(n, step):\n",
    "    optimiser.plot_step_2D('x', 'y', n, true_cost=Z)\n",
    "op.gui.step_log_slider(optimiser, plot2D, pre_compute=False);"
   ]
  },
  {
   "cell_type": "code",
   "execution_count": null,
   "metadata": {},
   "outputs": [],
   "source": [
    "def plot(n, step):\n",
    "    optimiser.plot_step_1D('x', n, gp_through_all=True)\n",
    "op.gui.step_log_slider(optimiser, plot);"
   ]
  },
  {
   "cell_type": "code",
   "execution_count": null,
   "metadata": {},
   "outputs": [],
   "source": [
    "def plot(n, step):\n",
    "    optimiser.plot_step_1D('y', n, gp_through_all=True)\n",
    "op.gui.step_log_slider(optimiser, plot);"
   ]
  },
  {
   "cell_type": "code",
   "execution_count": null,
   "metadata": {},
   "outputs": [],
   "source": [
    "optimiser.best_sample()"
   ]
  },
  {
   "cell_type": "markdown",
   "metadata": {},
   "source": [
    "# Try optimising the same function with random search"
   ]
  },
  {
   "cell_type": "code",
   "execution_count": null,
   "metadata": {},
   "outputs": [],
   "source": [
    "ra = op.RandomSearchOptimiser(ranges, maximise_cost=False)\n",
    "ra.run_sequential(evaluator, max_jobs=1000)"
   ]
  },
  {
   "cell_type": "code",
   "execution_count": null,
   "metadata": {},
   "outputs": [],
   "source": [
    "ra.plot_cost_over_time(true_best=best_z);"
   ]
  },
  {
   "cell_type": "code",
   "execution_count": null,
   "metadata": {},
   "outputs": [],
   "source": [
    "ra.best_sample()"
   ]
  },
  {
   "cell_type": "code",
   "execution_count": null,
   "metadata": {},
   "outputs": [],
   "source": [
    "ra.scatter_plot('x', 'y')"
   ]
  },
  {
   "cell_type": "code",
   "execution_count": null,
   "metadata": {},
   "outputs": [],
   "source": []
  }
 ],
 "metadata": {
  "kernelspec": {
   "display_name": "Python 3",
   "language": "python",
   "name": "python3"
  },
  "language_info": {
   "codemirror_mode": {
    "name": "ipython",
    "version": 3
   },
   "file_extension": ".py",
   "mimetype": "text/x-python",
   "name": "python",
   "nbconvert_exporter": "python",
   "pygments_lexer": "ipython3",
   "version": "3.5.2"
  },
  "varInspector": {
   "cols": {
    "lenName": 16,
    "lenType": 16,
    "lenVar": 40
   },
   "kernels_config": {
    "python": {
     "delete_cmd_postfix": "",
     "delete_cmd_prefix": "del ",
     "library": "var_list.py",
     "varRefreshCmd": "print(var_dic_list())"
    },
    "r": {
     "delete_cmd_postfix": ") ",
     "delete_cmd_prefix": "rm(",
     "library": "var_list.r",
     "varRefreshCmd": "cat(var_dic_list()) "
    }
   },
   "types_to_exclude": [
    "module",
    "function",
    "builtin_function_or_method",
    "instance",
    "_Feature"
   ],
   "window_display": false
  }
 },
 "nbformat": 4,
 "nbformat_minor": 2
}
