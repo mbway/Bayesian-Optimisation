{
 "cells": [
  {
   "cell_type": "markdown",
   "metadata": {},
   "source": [
    "In this notebook, Bayesian Optimisation is used on a fundamentally 1D problem, pretending to be 2D with the addition of a nuisance parameter."
   ]
  },
  {
   "cell_type": "code",
   "execution_count": null,
   "metadata": {},
   "outputs": [],
   "source": [
    "%load_ext autoreload\n",
    "%autoreload 2\n",
    "%matplotlib inline"
   ]
  },
  {
   "cell_type": "code",
   "execution_count": null,
   "metadata": {},
   "outputs": [],
   "source": [
    "import numpy as np\n",
    "import sklearn.gaussian_process as gp\n",
    "import matplotlib.pyplot as plt\n",
    "import seaborn as sns # prettify matplotlib"
   ]
  },
  {
   "cell_type": "code",
   "execution_count": null,
   "metadata": {},
   "outputs": [],
   "source": [
    "# local modules\n",
    "import sys; sys.path.append('..')\n",
    "import optimisation as op\n",
    "from optimisation import plot3D\n",
    "from utils import synthetic_data"
   ]
  },
  {
   "cell_type": "code",
   "execution_count": null,
   "metadata": {},
   "outputs": [],
   "source": [
    "# Make deterministic\n",
    "np.random.seed(100)"
   ]
  },
  {
   "cell_type": "markdown",
   "metadata": {},
   "source": [
    "# Target Function"
   ]
  },
  {
   "cell_type": "code",
   "execution_count": null,
   "metadata": {},
   "outputs": [],
   "source": [
    "xs = np.linspace(-2, 10, 100)\n",
    "nuisance = np.linspace(0, 10, 100)\n",
    "\n",
    "noise = synthetic_data.Noise1D(xs, 0.0)\n",
    "f = lambda x: np.exp(-(x - 2)**2) + np.exp(-(x - 6)**2/10) + 1/ (x**2 + 1) + noise.get(x)\n",
    "\n",
    "# testing log function with nuisance parameter\n",
    "#xs = op.logspace(0.005, 5, num_per_mag=200)\n",
    "#f = lambda x: np.cos(2*(20-x)**2)/x - 2*np.log(x)\n",
    "\n",
    "f2D = lambda x, nuisance: f(x)\n",
    "ys = f(xs)\n",
    "best_y = np.max(ys)\n",
    "\n",
    "X,Y = np.meshgrid(xs, nuisance)\n",
    "Z = f2D(X, Y)"
   ]
  },
  {
   "cell_type": "code",
   "execution_count": null,
   "metadata": {},
   "outputs": [],
   "source": [
    "plt.figure(figsize=(16,6))\n",
    "plt.plot(xs, ys)\n",
    "plt.show()"
   ]
  },
  {
   "cell_type": "code",
   "execution_count": null,
   "metadata": {},
   "outputs": [],
   "source": [
    "plot3D.surface3D(X, Y, Z)"
   ]
  },
  {
   "cell_type": "code",
   "execution_count": null,
   "metadata": {},
   "outputs": [],
   "source": [
    "ranges1D = {'x' : xs}\n",
    "ranges2D = {'x' : xs, 'nuisance' : nuisance}\n",
    "\n",
    "class TestEvaluator(op.Evaluator):\n",
    "    def test_config(self, config):\n",
    "        return f(config.x)\n",
    "evaluator = TestEvaluator()\n",
    "\n",
    "gp_params = {\n",
    "    'alpha': 1e-10, # default noise level, deal with noise with the white kernel\n",
    "    'kernel': 1.0 * gp.kernels.Matern(nu=1.5) + gp.kernels.WhiteKernel(),\n",
    "    'n_restarts_optimizer': 4\n",
    "}\n",
    "strategy = op.AcquisitionStrategy(\n",
    "    pre_phase_steps = 4,\n",
    "    acquisition_function = ('UCB', {'kappa' : 5})\n",
    ")\n",
    "\n",
    "def create_optimiser(ranges):\n",
    "    return op.BayesianOptimisationOptimiser(\n",
    "        ranges, maximise_cost=True, acquisition_strategy=strategy,\n",
    "        gp_params=gp_params, maximisation_args=None, close_tolerance=1e-4\n",
    "    )\n",
    "bo1D = create_optimiser(ranges1D)\n",
    "bo2D = create_optimiser(ranges2D)"
   ]
  },
  {
   "cell_type": "code",
   "execution_count": null,
   "metadata": {},
   "outputs": [],
   "source": [
    "op.gui.optimiser_progress_bar(bo1D)\n",
    "bo1D.run_sequential(evaluator, max_jobs=25)"
   ]
  },
  {
   "cell_type": "code",
   "execution_count": null,
   "metadata": {},
   "outputs": [],
   "source": [
    "bo1D.plot_cost_over_time(true_best=best_y);"
   ]
  },
  {
   "cell_type": "code",
   "execution_count": null,
   "metadata": {},
   "outputs": [],
   "source": [
    "def plot(n, step):\n",
    "    bo1D.plot_step_1D('x', n, true_cost=f);\n",
    "op.gui.step_log_slider(bo1D, plot, pre_compute=False);"
   ]
  },
  {
   "cell_type": "code",
   "execution_count": null,
   "metadata": {},
   "outputs": [],
   "source": [
    "op.gui.optimiser_progress_bar(bo2D)\n",
    "bo2D.run_sequential(evaluator, max_jobs=60)"
   ]
  },
  {
   "cell_type": "code",
   "execution_count": null,
   "metadata": {},
   "outputs": [],
   "source": [
    "bo2D.plot_cost_over_time(true_best=best_y);"
   ]
  },
  {
   "cell_type": "code",
   "execution_count": null,
   "metadata": {},
   "outputs": [],
   "source": [
    "def plot(n, step):\n",
    "    bo2D.plot_step_1D('x', n, true_cost=f);\n",
    "op.gui.step_log_slider(bo2D, plot, pre_compute=False);"
   ]
  },
  {
   "cell_type": "code",
   "execution_count": null,
   "metadata": {},
   "outputs": [],
   "source": [
    "def plot(n, step):\n",
    "    bo2D.plot_step_1D('nuisance', n);\n",
    "op.gui.step_log_slider(bo2D, plot, pre_compute=False);"
   ]
  },
  {
   "cell_type": "code",
   "execution_count": null,
   "metadata": {},
   "outputs": [],
   "source": [
    "def plot2D(n, step):\n",
    "    bo2D.plot_step_2D('x', 'nuisance', n, true_cost=Z, force_view_linear=False)\n",
    "op.gui.step_log_slider(bo2D, plot2D, pre_compute=False);"
   ]
  },
  {
   "cell_type": "code",
   "execution_count": null,
   "metadata": {},
   "outputs": [],
   "source": [
    "bo2D.scatter_plot('x', 'nuisance')"
   ]
  },
  {
   "cell_type": "code",
   "execution_count": null,
   "metadata": {},
   "outputs": [],
   "source": [
    "ra1D = op.RandomSearchOptimiser(ranges1D, maximise_cost=True)\n",
    "ra2D = op.RandomSearchOptimiser(ranges2D, maximise_cost=True)"
   ]
  },
  {
   "cell_type": "code",
   "execution_count": null,
   "metadata": {},
   "outputs": [],
   "source": [
    "ra1D.run_sequential(evaluator, max_jobs=60)"
   ]
  },
  {
   "cell_type": "code",
   "execution_count": null,
   "metadata": {},
   "outputs": [],
   "source": [
    "ra1D.plot_cost_over_time(true_best=best_y);"
   ]
  },
  {
   "cell_type": "code",
   "execution_count": null,
   "metadata": {},
   "outputs": [],
   "source": [
    "ra2D.run_sequential(evaluator, max_jobs=60)"
   ]
  },
  {
   "cell_type": "code",
   "execution_count": null,
   "metadata": {},
   "outputs": [],
   "source": [
    "ra2D.plot_cost_over_time(true_best=best_y);"
   ]
  },
  {
   "cell_type": "code",
   "execution_count": null,
   "metadata": {},
   "outputs": [],
   "source": [
    "ra2D.scatter_plot('x', 'nuisance')"
   ]
  },
  {
   "cell_type": "code",
   "execution_count": null,
   "metadata": {},
   "outputs": [],
   "source": []
  }
 ],
 "metadata": {
  "kernelspec": {
   "display_name": "Python 3",
   "language": "python",
   "name": "python3"
  },
  "language_info": {
   "codemirror_mode": {
    "name": "ipython",
    "version": 3
   },
   "file_extension": ".py",
   "mimetype": "text/x-python",
   "name": "python",
   "nbconvert_exporter": "python",
   "pygments_lexer": "ipython3",
   "version": "3.5.2"
  },
  "varInspector": {
   "cols": {
    "lenName": 16,
    "lenType": 16,
    "lenVar": 40
   },
   "kernels_config": {
    "python": {
     "delete_cmd_postfix": "",
     "delete_cmd_prefix": "del ",
     "library": "var_list.py",
     "varRefreshCmd": "print(var_dic_list())"
    },
    "r": {
     "delete_cmd_postfix": ") ",
     "delete_cmd_prefix": "rm(",
     "library": "var_list.r",
     "varRefreshCmd": "cat(var_dic_list()) "
    }
   },
   "types_to_exclude": [
    "module",
    "function",
    "builtin_function_or_method",
    "instance",
    "_Feature"
   ],
   "window_display": false
  }
 },
 "nbformat": 4,
 "nbformat_minor": 2
}
