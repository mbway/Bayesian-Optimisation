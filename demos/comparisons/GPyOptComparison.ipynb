{
 "cells": [
  {
   "cell_type": "code",
   "execution_count": null,
   "metadata": {},
   "outputs": [],
   "source": [
    "import numpy as np\n",
    "import pandas as pd\n",
    "import matplotlib.pyplot as plt\n",
    "#import seaborn as sns; sns.set()"
   ]
  },
  {
   "cell_type": "code",
   "execution_count": null,
   "metadata": {},
   "outputs": [],
   "source": [
    "class Experiment:\n",
    "    def __init__(self, path):\n",
    "        self.frame = pd.read_csv(path, index_col=0)\n",
    "        self.durations = self.frame.get('duration').values\n",
    "        self.costs = self.frame.drop(columns=['seed', 'duration'])\n",
    "        self.mean, self.stddev, self.lq, self.uq = get_best(self.costs.values)\n",
    "        \n",
    "def get_best(data):\n",
    "    n = data.shape[0]\n",
    "    bests = np.zeros_like(data)\n",
    "    for row in range(data.shape[0]):\n",
    "        for col in range(data.shape[1]):\n",
    "            bests[row, col] = np.min(data[row,:col+1])\n",
    "    mean = np.mean(bests, axis=0)\n",
    "    stddev = np.sqrt(np.var(bests, axis=0))\n",
    "    lq, uq = np.percentile(bests, [25, 75], axis=0)\n",
    "    return mean, stddev, lq, uq"
   ]
  },
  {
   "cell_type": "code",
   "execution_count": null,
   "metadata": {},
   "outputs": [],
   "source": [
    "random = Experiment('costs_random.csv')\n",
    "turbo = Experiment('costs_turbo.csv')\n",
    "turbo_fallback = Experiment('costs_turbo_with_fallback.csv')\n",
    "gpyopt = Experiment('costs_gpyopt.csv')"
   ]
  },
  {
   "cell_type": "code",
   "execution_count": null,
   "metadata": {},
   "outputs": [],
   "source": [
    "plt.figure(figsize=(10, 6))\n",
    "plt.bar(0, turbo.durations.mean(axis=0), color='b', label='turbo')\n",
    "plt.bar(1, turbo_fallback.durations.mean(axis=0), color='g', label='turbo with fallback')\n",
    "plt.bar(2, gpyopt.durations.mean(axis=0), color='orange', label='GPyOpt')\n",
    "plt.gca().set_xticks([])\n",
    "plt.title('mean duration')\n",
    "plt.legend()\n",
    "plt.show()"
   ]
  },
  {
   "cell_type": "code",
   "execution_count": null,
   "metadata": {},
   "outputs": [],
   "source": [
    "plt.figure(figsize=(16,10))\n",
    "xs = range(30)\n",
    "plt.plot(xs, random.mean, label='random')\n",
    "plt.fill_between(xs, random.lq, random.uq, alpha=0.1)\n",
    "\n",
    "plt.plot(xs, turbo.mean, label='turbo')\n",
    "plt.fill_between(xs, turbo.lq, turbo.uq, alpha=0.1)\n",
    "\n",
    "plt.plot(xs, turbo_fallback.mean, label='turbo with fallback')\n",
    "plt.fill_between(xs, turbo_fallback.lq, turbo_fallback.uq, alpha=0.1)\n",
    "\n",
    "plt.plot(xs, gpyopt.mean, label='GPyOpt')\n",
    "plt.fill_between(xs, gpyopt.lq, gpyopt.uq, alpha=0.1)\n",
    "\n",
    "plt.ylim((-3.5, -1.25))\n",
    "plt.axvline(x=5, linestyle=':', color='k')\n",
    "plt.legend()\n",
    "plt.show()"
   ]
  },
  {
   "cell_type": "markdown",
   "metadata": {},
   "source": [
    "this is interesting, but isn't that important because what matters is the best so far"
   ]
  },
  {
   "cell_type": "code",
   "execution_count": null,
   "metadata": {},
   "outputs": [],
   "source": [
    "plt.figure(figsize=(16,10))\n",
    "plt.plot(range(30), random.costs.mean(axis=0), label='random')\n",
    "plt.plot(range(30), turbo.costs.mean(axis=0), label='turbo')\n",
    "plt.plot(range(30), turbo_fallback.costs.mean(axis=0), label='turbo with fallback')\n",
    "plt.plot(range(30), gpyopt.costs.mean(axis=0), label='GPyOpt')\n",
    "plt.axvline(x=5, linestyle=':', color='k')\n",
    "plt.legend()\n",
    "plt.show()"
   ]
  },
  {
   "cell_type": "code",
   "execution_count": null,
   "metadata": {},
   "outputs": [],
   "source": []
  }
 ],
 "metadata": {
  "kernelspec": {
   "display_name": "Python 3",
   "language": "python",
   "name": "python3"
  },
  "language_info": {
   "codemirror_mode": {
    "name": "ipython",
    "version": 3
   },
   "file_extension": ".py",
   "mimetype": "text/x-python",
   "name": "python",
   "nbconvert_exporter": "python",
   "pygments_lexer": "ipython3",
   "version": "3.6.3"
  },
  "varInspector": {
   "cols": {
    "lenName": 16,
    "lenType": 16,
    "lenVar": 40
   },
   "kernels_config": {
    "python": {
     "delete_cmd_postfix": "",
     "delete_cmd_prefix": "del ",
     "library": "var_list.py",
     "varRefreshCmd": "print(var_dic_list())"
    },
    "r": {
     "delete_cmd_postfix": ") ",
     "delete_cmd_prefix": "rm(",
     "library": "var_list.r",
     "varRefreshCmd": "cat(var_dic_list()) "
    }
   },
   "types_to_exclude": [
    "module",
    "function",
    "builtin_function_or_method",
    "instance",
    "_Feature"
   ],
   "window_display": false
  }
 },
 "nbformat": 4,
 "nbformat_minor": 2
}
