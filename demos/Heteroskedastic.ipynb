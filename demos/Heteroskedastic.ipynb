{
 "cells": [
  {
   "cell_type": "markdown",
   "metadata": {},
   "source": [
    "# Heteroskedastic\n",
    "meaning not i.i.d noise\n",
    "- GPs do not typically cope with heteroskedasticity and instead predict the same noise level across the whole domain\n",
    "- it is unclear which of the two solutions in the function below is preferable, for situations where robust performance is required, then the left peak is preferable to the right peak. Without extensions, Bayesian optimisation will usually favour the right peak\n",
    "- for applications, see 'Variational Bayesian Optimization for Runtime Risk-Sensitive Control'"
   ]
  },
  {
   "cell_type": "code",
   "execution_count": null,
   "metadata": {},
   "outputs": [],
   "source": [
    "%load_ext autoreload\n",
    "%autoreload 2\n",
    "%matplotlib inline"
   ]
  },
  {
   "cell_type": "code",
   "execution_count": null,
   "metadata": {},
   "outputs": [],
   "source": [
    "import numpy as np\n",
    "import sklearn.gaussian_process as sk_gp\n",
    "import GPy\n",
    "import matplotlib.pyplot as plt\n",
    "import seaborn as sns; sns.set() # prettify matplotlib"
   ]
  },
  {
   "cell_type": "code",
   "execution_count": null,
   "metadata": {},
   "outputs": [],
   "source": [
    "# local modules\n",
    "import turbo as tb\n",
    "import turbo.modules as tm\n",
    "import turbo.plotting as tp\n",
    "import turbo.gui.jupyter as tg"
   ]
  },
  {
   "cell_type": "code",
   "execution_count": null,
   "metadata": {},
   "outputs": [],
   "source": [
    "# make deterministic\n",
    "np.random.seed(42)"
   ]
  },
  {
   "cell_type": "code",
   "execution_count": null,
   "metadata": {},
   "outputs": [],
   "source": [
    "def RBF(x, c, beta):\n",
    "    return np.exp(-beta * (x-c)**2)\n",
    "\n",
    "#noise_f = lambda x: 0.1*RBF(x, -5, 1e-3) + 0.1*RBF(x, 5, 5e-3) + 0.1*RBF(x, 18, 5e-3) + 0.1\n",
    "noise_f = lambda x: 0.2*RBF(x, 15, 4e-3)\n",
    "def f(x):\n",
    "    noise = np.random.normal(loc=0, scale=noise_f(x))\n",
    "    v = 2 * RBF(x, 1, 1e-3) + 1 * RBF(x, -10, 0.2) + 1 * RBF(x, 10, 0.2)\n",
    "    return v + noise\n",
    "\n",
    "xmin, xmax = -20, 20\n",
    "xs = np.linspace(xmin, xmax, num=1000)\n",
    "\n",
    "ys = f(xs)\n",
    "best_y = np.max(ys)\n",
    "best_x = xs[np.argmin(ys)]"
   ]
  },
  {
   "cell_type": "code",
   "execution_count": null,
   "metadata": {},
   "outputs": [],
   "source": [
    "plt.figure(figsize=(16,6))\n",
    "plt.plot(xs, ys, label='f')\n",
    "#plt.plot(xs, noise_f(xs), label='noise')\n",
    "plt.show()"
   ]
  },
  {
   "cell_type": "code",
   "execution_count": null,
   "metadata": {},
   "outputs": [],
   "source": [
    "op = tb.Optimiser(f, 'max', [('x', xmin, xmax)], pre_phase_trials=5, settings_preset='default')\n",
    "\n",
    "#op.acquisition = tm.UCB(beta=lambda trial_num: 5*np.log(trial_num-2)-4)\n",
    "#tp.plot_acquisition_parameter_function(op.acquisition.beta, 5, 30)\n",
    "\n",
    "op.surrogate = tm.SciKitGPSurrogate(model_params=dict(\n",
    "    kernel = 1.0 * sk_gp.kernels.Matern(nu=2.5) + sk_gp.kernels.WhiteKernel(),\n",
    "), training_iterations=4)\n",
    "rec = tb.Recorder(op)"
   ]
  },
  {
   "cell_type": "code",
   "execution_count": null,
   "metadata": {},
   "outputs": [],
   "source": [
    "tg.OptimiserProgressBar(op)\n",
    "op.run(max_trials=30)"
   ]
  },
  {
   "cell_type": "code",
   "execution_count": null,
   "metadata": {},
   "outputs": [],
   "source": [
    "tp.plot_error(rec, true_best=best_y);\n",
    "tp.plot_overview(rec)"
   ]
  },
  {
   "cell_type": "code",
   "execution_count": null,
   "metadata": {},
   "outputs": [],
   "source": [
    "tp.interactive_plot_trial_1D(rec, true_objective=f)"
   ]
  },
  {
   "cell_type": "code",
   "execution_count": null,
   "metadata": {},
   "outputs": [],
   "source": []
  }
 ],
 "metadata": {
  "kernelspec": {
   "display_name": "Python 3",
   "language": "python",
   "name": "python3"
  },
  "language_info": {
   "codemirror_mode": {
    "name": "ipython",
    "version": 3
   },
   "file_extension": ".py",
   "mimetype": "text/x-python",
   "name": "python",
   "nbconvert_exporter": "python",
   "pygments_lexer": "ipython3",
   "version": "3.6.3"
  },
  "varInspector": {
   "cols": {
    "lenName": 16,
    "lenType": 16,
    "lenVar": 40
   },
   "kernels_config": {
    "python": {
     "delete_cmd_postfix": "",
     "delete_cmd_prefix": "del ",
     "library": "var_list.py",
     "varRefreshCmd": "print(var_dic_list())"
    },
    "r": {
     "delete_cmd_postfix": ") ",
     "delete_cmd_prefix": "rm(",
     "library": "var_list.r",
     "varRefreshCmd": "cat(var_dic_list()) "
    }
   },
   "types_to_exclude": [
    "module",
    "function",
    "builtin_function_or_method",
    "instance",
    "_Feature"
   ],
   "window_display": false
  }
 },
 "nbformat": 4,
 "nbformat_minor": 2
}
