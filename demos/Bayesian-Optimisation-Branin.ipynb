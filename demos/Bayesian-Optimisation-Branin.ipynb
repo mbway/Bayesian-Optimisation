{
 "cells": [
  {
   "cell_type": "markdown",
   "metadata": {},
   "source": [
    "# An Example 2D optimisation\n",
    "## Inspired by the following notebook:\n",
    "[scikit-optimize benchmarks](https://github.com/scikit-optimize/scikit-optimize.github.io/blob/master/notebooks/strategy-comparison.md)\n",
    "\n",
    "The [Branin-Hoo function](https://www.sfu.ca/~ssurjano/branin.html) is a commonly used function for benchmarking black-box global optimisation algorithms"
   ]
  },
  {
   "cell_type": "code",
   "execution_count": null,
   "metadata": {},
   "outputs": [],
   "source": [
    "%load_ext autoreload\n",
    "%autoreload 2\n",
    "%matplotlib inline"
   ]
  },
  {
   "cell_type": "code",
   "execution_count": null,
   "metadata": {},
   "outputs": [],
   "source": [
    "import numpy as np\n",
    "import sklearn.gaussian_process as gp\n",
    "import matplotlib.pyplot as plt\n",
    "import seaborn as sns # prettify matplotlib"
   ]
  },
  {
   "cell_type": "code",
   "execution_count": null,
   "metadata": {},
   "outputs": [],
   "source": [
    "# local modules\n",
    "import sys; sys.path.append('..')\n",
    "import optimisation as op\n",
    "from optimisation import plot3D\n",
    "from utils import synthetic_data"
   ]
  },
  {
   "cell_type": "code",
   "execution_count": null,
   "metadata": {},
   "outputs": [],
   "source": [
    "# Make deterministic\n",
    "np.random.seed(42)"
   ]
  },
  {
   "cell_type": "markdown",
   "metadata": {},
   "source": [
    "# Target Function"
   ]
  },
  {
   "cell_type": "code",
   "execution_count": null,
   "metadata": {},
   "outputs": [],
   "source": [
    "x = np.linspace(-5, 10, 100)\n",
    "y = np.linspace(0, 15, 100)\n",
    "X, Y = np.meshgrid(x, y)\n",
    "points = np.vstack((X.ravel(), Y.ravel())).T\n",
    "\n",
    "from skopt.benchmarks import branin as _branin\n",
    "\n",
    "@np.vectorize\n",
    "def branin(x, y):\n",
    "    return _branin((x,y)) + 5 * np.random.randn()\n",
    "\n",
    "Z = branin(X, Y)\n",
    "best_z = np.min(Z)\n",
    "\n",
    "class TestEvaluator(op.Evaluator):\n",
    "    def test_config(self, config):\n",
    "        return branin(config.x, config.y)\n",
    "evaluator = TestEvaluator()"
   ]
  },
  {
   "cell_type": "code",
   "execution_count": null,
   "metadata": {},
   "outputs": [],
   "source": [
    "plot3D.surface3D(X, Y, Z)"
   ]
  },
  {
   "cell_type": "markdown",
   "metadata": {},
   "source": [
    "# Helper Functions"
   ]
  },
  {
   "cell_type": "code",
   "execution_count": null,
   "metadata": {},
   "outputs": [],
   "source": [
    "Surrogate = op.SciKitGPSurrogate.Custom(gp_params={\n",
    "    'alpha': 1e-10, # default noise level, deal with noise with the white kernel\n",
    "    'kernel': 1.0 * gp.kernels.Matern(nu=2.5) + gp.kernels.WhiteKernel(),\n",
    "    #'kernel': gp.kernels.ConstantKernel() + 1.0 * gp.kernels.Matern(nu=2.5) + gp.kernels.WhiteKernel(),\n",
    "    'n_restarts_optimizer': 10\n",
    "})\n",
    "strategy = op.AcquisitionStrategy(\n",
    "    pre_phase_steps = 6,\n",
    "    acquisition_function = ('UCB', {'kappa' : 4}), #('EI', {'xi' : 0.1}),\n",
    "    #parallel_strategy = 'kb'\n",
    "    #parallel_strategy = 'mc'\n",
    ")\n",
    "ranges = {'x' : x, 'y' : y}\n",
    "\n",
    "bo = op.BayesianOptimisationOptimiser(\n",
    "    ranges, maximise_cost=False,\n",
    "    acquisition_strategy=strategy,\n",
    "    Surrogate=Surrogate, maximisation_args=None, close_tolerance=1e-4)"
   ]
  },
  {
   "cell_type": "code",
   "execution_count": null,
   "metadata": {},
   "outputs": [],
   "source": [
    "op.gui.optimiser_progress_bar(bo)\n",
    "bo.run_sequential(evaluator, max_jobs=30)\n",
    "# run the multithreaded version to try out the parallel strategies\n",
    "#bo.run_multithreaded(evaluators, max_jobs=60)\n",
    "\n",
    "# or run interactively to see the log as it runs\n",
    "#task = lambda: bo.run_sequential(evaluator, max_jobs=60)\n",
    "#op.gui.interactive(bo, task)"
   ]
  },
  {
   "cell_type": "code",
   "execution_count": null,
   "metadata": {},
   "outputs": [],
   "source": [
    "bo.plot_cost_over_time(true_best=best_z);"
   ]
  },
  {
   "cell_type": "code",
   "execution_count": null,
   "metadata": {},
   "outputs": [],
   "source": [
    "def plot(n, step):\n",
    "    bo.plot_step_1D('x', n, sur_through_all=True)\n",
    "op.gui.step_log_slider(bo, plot);"
   ]
  },
  {
   "cell_type": "code",
   "execution_count": null,
   "metadata": {},
   "outputs": [],
   "source": [
    "def plot2(n, step):\n",
    "    bo.plot_step_1D('y', n, sur_through_all=True)\n",
    "op.gui.step_log_slider(bo, plot2);"
   ]
  },
  {
   "cell_type": "code",
   "execution_count": null,
   "metadata": {},
   "outputs": [],
   "source": [
    "num_random = bo.num_randomly_chosen()\n",
    "num_bayes = len(bo.samples) - num_random\n",
    "print('number of random samples: {}'.format(num_random))\n",
    "print('number of bayes samples: {}'.format(num_bayes))"
   ]
  },
  {
   "cell_type": "code",
   "execution_count": null,
   "metadata": {},
   "outputs": [],
   "source": [
    "def plot2D(n, step):\n",
    "    bo.plot_step_2D('x', 'y', n, true_cost=Z)\n",
    "op.gui.step_log_slider(bo, plot2D, pre_compute=False);"
   ]
  },
  {
   "cell_type": "code",
   "execution_count": null,
   "metadata": {},
   "outputs": [],
   "source": [
    "bo.scatter_plot('x', 'y')"
   ]
  },
  {
   "cell_type": "markdown",
   "metadata": {},
   "source": [
    "# Try optimising the same function with random search"
   ]
  },
  {
   "cell_type": "code",
   "execution_count": null,
   "metadata": {},
   "outputs": [],
   "source": [
    "ra = op.RandomSearchOptimiser(ranges, maximise_cost=False)\n",
    "ra.run_sequential(evaluator, max_jobs=1000)"
   ]
  },
  {
   "cell_type": "code",
   "execution_count": null,
   "metadata": {},
   "outputs": [],
   "source": [
    "ra.plot_cost_over_time(true_best=best_z);"
   ]
  },
  {
   "cell_type": "code",
   "execution_count": null,
   "metadata": {},
   "outputs": [],
   "source": [
    "ra.scatter_plot('x', 'y')"
   ]
  },
  {
   "cell_type": "code",
   "execution_count": null,
   "metadata": {},
   "outputs": [],
   "source": []
  }
 ],
 "metadata": {
  "kernelspec": {
   "display_name": "Python 3",
   "language": "python",
   "name": "python3"
  },
  "language_info": {
   "codemirror_mode": {
    "name": "ipython",
    "version": 3
   },
   "file_extension": ".py",
   "mimetype": "text/x-python",
   "name": "python",
   "nbconvert_exporter": "python",
   "pygments_lexer": "ipython3",
   "version": "3.5.2"
  },
  "varInspector": {
   "cols": {
    "lenName": 16,
    "lenType": 16,
    "lenVar": 40
   },
   "kernels_config": {
    "python": {
     "delete_cmd_postfix": "",
     "delete_cmd_prefix": "del ",
     "library": "var_list.py",
     "varRefreshCmd": "print(var_dic_list())"
    },
    "r": {
     "delete_cmd_postfix": ") ",
     "delete_cmd_prefix": "rm(",
     "library": "var_list.r",
     "varRefreshCmd": "cat(var_dic_list()) "
    }
   },
   "types_to_exclude": [
    "module",
    "function",
    "builtin_function_or_method",
    "instance",
    "_Feature"
   ],
   "window_display": false
  }
 },
 "nbformat": 4,
 "nbformat_minor": 2
}
