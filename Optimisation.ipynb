{
 "cells": [
  {
   "cell_type": "code",
   "execution_count": null,
   "metadata": {},
   "outputs": [],
   "source": [
    "%load_ext autoreload\n",
    "%autoreload 2"
   ]
  },
  {
   "cell_type": "code",
   "execution_count": null,
   "metadata": {},
   "outputs": [],
   "source": [
    "from IPython.core.debugger import Tracer # debugging\n",
    "from IPython.display import clear_output\n",
    "\n",
    "import time\n",
    "\n",
    "%matplotlib inline\n",
    "import matplotlib.pyplot as plt\n",
    "import seaborn as sns # prettify matplotlib\n",
    "from mpl_toolkits.mplot3d import Axes3D # for matplotlib 3D plots\n",
    "\n",
    "import numpy as np"
   ]
  },
  {
   "cell_type": "code",
   "execution_count": null,
   "metadata": {},
   "outputs": [],
   "source": [
    "# local modules\n",
    "import optimisation as op\n",
    "import plot3D\n",
    "#import plotly.offline as py\n",
    "#py.init_notebook_mode(connected=True)"
   ]
  },
  {
   "cell_type": "code",
   "execution_count": null,
   "metadata": {},
   "outputs": [],
   "source": [
    "# make deterministic\n",
    "np.random.seed(100)"
   ]
  },
  {
   "cell_type": "markdown",
   "metadata": {},
   "source": [
    "# 1 Parameter - Grid Search"
   ]
  },
  {
   "cell_type": "code",
   "execution_count": null,
   "metadata": {},
   "outputs": [],
   "source": [
    "f = lambda x: x * np.cos(x)\n",
    "x = np.linspace(0, 12, 100)\n",
    "y = f(x)"
   ]
  },
  {
   "cell_type": "code",
   "execution_count": null,
   "metadata": {},
   "outputs": [],
   "source": [
    "plt.figure(figsize=(16,8))\n",
    "plt.plot(x, y, 'g-')\n",
    "plt.margins(0.1, 0.1)\n",
    "plt.xlabel('x')\n",
    "plt.ylabel('cost')\n",
    "plt.show()"
   ]
  },
  {
   "cell_type": "code",
   "execution_count": null,
   "metadata": {},
   "outputs": [],
   "source": [
    "ranges = {\n",
    "    'x' : np.linspace(0, 12, 100)\n",
    "}\n",
    "def test_config(config):\n",
    "    #time.sleep(1)\n",
    "    return f(config.x)\n",
    "optimiser = op.GridSearchOptimiser(ranges, test_config)"
   ]
  },
  {
   "cell_type": "code",
   "execution_count": null,
   "metadata": {},
   "outputs": [],
   "source": [
    "optimiser.run(run_async=True)"
   ]
  },
  {
   "cell_type": "code",
   "execution_count": null,
   "metadata": {},
   "outputs": [],
   "source": [
    "optimiser.wait_for()"
   ]
  },
  {
   "cell_type": "code",
   "execution_count": null,
   "metadata": {},
   "outputs": [],
   "source": [
    "optimiser.report()\n",
    "print('-'*25)\n",
    "print(optimiser.logger)"
   ]
  },
  {
   "cell_type": "code",
   "execution_count": null,
   "metadata": {},
   "outputs": [],
   "source": [
    "j1 = optimiser.save_progress()\n",
    "optimiser.run(run_async=True)\n",
    "j2 = optimiser.save_progress()\n",
    "optimiser.load_progress(j1)\n",
    "j3 = optimiser.save_progress()"
   ]
  },
  {
   "cell_type": "code",
   "execution_count": null,
   "metadata": {},
   "outputs": [],
   "source": [
    "test_xs, test_ys = zip(*[(s.config.x, s.cost) for s in optimiser.samples])\n",
    "best_config, best_y = optimiser.best_known_sample()\n",
    "best_x = best_config.x"
   ]
  },
  {
   "cell_type": "code",
   "execution_count": null,
   "metadata": {},
   "outputs": [],
   "source": [
    "plt.figure(figsize=(16,8))\n",
    "plt.plot(x, y, 'g-')\n",
    "plt.plot(test_xs, test_ys, 'bo', markersize=5)\n",
    "plt.plot([best_x], [best_y], 'ro', markersize=10)\n",
    "plt.margins(0.1, 0.1)\n",
    "plt.xlabel('x')\n",
    "plt.ylabel('cost')\n",
    "plt.show()"
   ]
  },
  {
   "cell_type": "code",
   "execution_count": null,
   "metadata": {},
   "outputs": [],
   "source": [
    "optimiser.plot_param('x', plot_boxplot=False, plot_samples=True, plot_means=True)"
   ]
  },
  {
   "cell_type": "markdown",
   "metadata": {},
   "source": [
    "### Note\n",
    "can use `np.logspace` to space points out logarithmically rather than linearly, remember that the start and end points are $\\mathrm{base}^{\\mathrm{start}}$ and $\\mathrm{base}^{\\mathrm{end}}$ hence why `log(start), log(end)` is used below\n",
    "\n",
    "also  note that the base of the logarithm is pretty much insignificant (as seen by the blue vs red points)\n",
    "\n",
    "another point is that the ranges passed to the optimisers need only be numpy arrays, so you can shuffle them or pass custom arrays rather than using linspace or other means."
   ]
  },
  {
   "cell_type": "code",
   "execution_count": null,
   "metadata": {},
   "outputs": [],
   "source": [
    "import math\n",
    "n = 100\n",
    "base = 10\n",
    "xs = np.logspace(math.log(1e-4, base), math.log(1e4, base), num=n, base=base)\n",
    "ys = [0.1] * n\n",
    "\n",
    "base = 2\n",
    "xs2 = np.logspace(math.log(1e-4, base), math.log(1e4, base), num=n, base=base)\n",
    "ys2 = [-0.1] * n\n",
    "\n",
    "plt.figure(figsize=(16,3))\n",
    "plt.plot(xs, ys, 'bo', markersize=5)\n",
    "plt.plot(xs2, ys2, 'ro', markersize=5)\n",
    "plt.axes().set_ylim((-2,2))\n",
    "plt.margins(0.1, 0.1)\n",
    "plt.show()"
   ]
  },
  {
   "cell_type": "markdown",
   "metadata": {},
   "source": [
    "# 3 Parameters - Grid Search"
   ]
  },
  {
   "cell_type": "code",
   "execution_count": null,
   "metadata": {},
   "outputs": [],
   "source": [
    "def f(x,y):\n",
    "    return 1.5 * (np.sin(0.5*x)**2 * np.cos(y) + 0.1*x + 0.2*y)\n",
    "\n",
    "X = np.linspace(-6, 6, 100)\n",
    "Y = np.linspace(-5, 5, 100)\n",
    "X, Y = np.meshgrid(X, Y)\n",
    "Z = f(X,Y)"
   ]
  },
  {
   "cell_type": "code",
   "execution_count": null,
   "metadata": {},
   "outputs": [],
   "source": [
    "plot3D.surface3D(X,Y,Z)"
   ]
  },
  {
   "cell_type": "code",
   "execution_count": null,
   "metadata": {},
   "outputs": [],
   "source": [
    "ranges = {\n",
    "    'x' : np.linspace(-6, 6, num=10),\n",
    "    'y' : np.linspace(-5, 5, num=10),\n",
    "    'z' : np.array([-0.5, 0.5]),\n",
    "    'another' : np.array(['a', 'b'])\n",
    "}\n",
    "#np.random.shuffle(ranges['x'])\n",
    "#np.random.shuffle(ranges['y'])\n",
    "\n",
    "order = ['x', 'y', 'z', 'another']\n",
    "def test_config(config):\n",
    "    #time.sleep(1)\n",
    "    return f(config.x, config.y) + config.z\n",
    "#optimiser = op.GridSearchOptimiser(ranges, test_config, order=order)\n",
    "#optimiser = op.RandomSearchOptimiser(ranges, test_config, allow_re_tests=False)"
   ]
  },
  {
   "cell_type": "code",
   "execution_count": null,
   "metadata": {},
   "outputs": [],
   "source": [
    "optimiser.run(run_async=False)"
   ]
  },
  {
   "cell_type": "code",
   "execution_count": null,
   "metadata": {},
   "outputs": [],
   "source": [
    "optimiser._hash_config(optimiser.samples[0].config)"
   ]
  },
  {
   "cell_type": "code",
   "execution_count": null,
   "metadata": {},
   "outputs": [],
   "source": [
    "optimiser.report()\n",
    "print(optimiser.logger)"
   ]
  },
  {
   "cell_type": "markdown",
   "metadata": {},
   "source": [
    "## Scatter plot of parameters against cost "
   ]
  },
  {
   "cell_type": "code",
   "execution_count": null,
   "metadata": {},
   "outputs": [],
   "source": [
    "optimiser.scatter_plot('x', 'y', interactive=True, color_by='cost')"
   ]
  },
  {
   "cell_type": "markdown",
   "metadata": {},
   "source": [
    "## Plot as a surface"
   ]
  },
  {
   "cell_type": "code",
   "execution_count": null,
   "metadata": {},
   "outputs": [],
   "source": [
    "optimiser.surface_plot('x', 'y')"
   ]
  },
  {
   "cell_type": "code",
   "execution_count": null,
   "metadata": {},
   "outputs": [],
   "source": [
    "optimiser.plot_param('x', plot_boxplot=True, plot_samples=True, plot_means=True)\n",
    "optimiser.plot_param('y', plot_boxplot=True, plot_samples=True, plot_means=True)\n",
    "optimiser.plot_param('z', plot_boxplot=True, plot_samples=True, plot_means=True)"
   ]
  },
  {
   "cell_type": "code",
   "execution_count": null,
   "metadata": {},
   "outputs": [],
   "source": [
    "    "
   ]
  },
  {
   "cell_type": "code",
   "execution_count": null,
   "metadata": {},
   "outputs": [],
   "source": []
  },
  {
   "cell_type": "code",
   "execution_count": null,
   "metadata": {},
   "outputs": [],
   "source": []
  },
  {
   "cell_type": "code",
   "execution_count": null,
   "metadata": {},
   "outputs": [],
   "source": []
  },
  {
   "cell_type": "code",
   "execution_count": null,
   "metadata": {},
   "outputs": [],
   "source": []
  }
 ],
 "metadata": {
  "kernelspec": {
   "display_name": "Python 3",
   "language": "python",
   "name": "python3"
  },
  "language_info": {
   "codemirror_mode": {
    "name": "ipython",
    "version": 3
   },
   "file_extension": ".py",
   "mimetype": "text/x-python",
   "name": "python",
   "nbconvert_exporter": "python",
   "pygments_lexer": "ipython3",
   "version": "3.5.2"
  },
  "varInspector": {
   "cols": {
    "lenName": 16,
    "lenType": 16,
    "lenVar": 40
   },
   "kernels_config": {
    "python": {
     "delete_cmd_postfix": "",
     "delete_cmd_prefix": "del ",
     "library": "var_list.py",
     "varRefreshCmd": "print(var_dic_list())"
    },
    "r": {
     "delete_cmd_postfix": ") ",
     "delete_cmd_prefix": "rm(",
     "library": "var_list.r",
     "varRefreshCmd": "cat(var_dic_list()) "
    }
   },
   "types_to_exclude": [
    "module",
    "function",
    "builtin_function_or_method",
    "instance",
    "_Feature"
   ],
   "window_display": false
  }
 },
 "nbformat": 4,
 "nbformat_minor": 2
}
