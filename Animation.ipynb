{
 "cells": [
  {
   "cell_type": "code",
   "execution_count": null,
   "metadata": {},
   "outputs": [],
   "source": [
    "#%matplotlib notebook\n",
    "import numpy as np\n",
    "import matplotlib.pyplot as plt\n",
    "\n",
    "\n",
    "class Animation:\n",
    "    def __init__(self, xs, static, interval):\n",
    "        self.static = static\n",
    "        self.fig, self.ax = plt.subplots()\n",
    "        self.ax.margins(0.1, 0.1)\n",
    "        self.line, = self.ax.plot(xs, np.zeros(len(xs)))\n",
    "        self.ys = [] # keep record of past y values\n",
    "        self.ani = matplotlib.animation.FuncAnimation(self.fig, self._animate, interval=interval, blit=True)\n",
    "    def _animate(self, i):\n",
    "        '''keep looping through the 'frames' of self.ys '''\n",
    "        self.line.set_ydata(self.ys[i%len(self.ys)])\n",
    "        self.static()\n",
    "        self.ax.relim() # recompute limits\n",
    "        self.ax.autoscale_view()\n",
    "        return self.line,\n",
    "    def update(self, ys):\n",
    "        ''' give a new frame for the animation '''\n",
    "        self.ys.append(ys)\n",
    "    def show(self):\n",
    "        self.fig.show()\n",
    "\n",
    "x = np.linspace(0,2*3.14)\n",
    "def static(ax):\n",
    "    pass\n",
    "    #ax.plot(x, 0*x)\n",
    "a = Animation(x, static=static, interval=25)\n",
    "animated\n",
    "for i in range(100):\n",
    "    #print(i/500.0)\n",
    "    a.update(i*x)\n",
    "\n",
    "a.show()"
   ]
  },
  {
   "cell_type": "code",
   "execution_count": null,
   "metadata": {},
   "outputs": [],
   "source": [
    "%matplotlib inline\n",
    "import math\n",
    "from IPython.display import clear_output\n",
    "\n",
    "x = np.linspace(0, 2*math.pi)\n",
    "animatedy = []\n",
    "\n",
    "def draw_frame(i):\n",
    "    clear_output(wait=True)\n",
    "    plt.plot(x, 0*x)\n",
    "    plt.plot(x*i)\n",
    "    plt.show()\n",
    "\n",
    "for i in range(1000):\n",
    "    draw_frame(i)\n"
   ]
  },
  {
   "cell_type": "code",
   "execution_count": null,
   "metadata": {},
   "outputs": [],
   "source": []
  }
 ],
 "metadata": {
  "kernelspec": {
   "display_name": "Python 3",
   "language": "python",
   "name": "python3"
  },
  "language_info": {
   "codemirror_mode": {
    "name": "ipython",
    "version": 3
   },
   "file_extension": ".py",
   "mimetype": "text/x-python",
   "name": "python",
   "nbconvert_exporter": "python",
   "pygments_lexer": "ipython3",
   "version": "3.5.2"
  }
 },
 "nbformat": 4,
 "nbformat_minor": 1
}
